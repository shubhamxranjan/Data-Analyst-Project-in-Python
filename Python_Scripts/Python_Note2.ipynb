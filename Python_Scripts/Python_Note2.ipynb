{
 "cells": [
  {
   "cell_type": "markdown",
   "id": "fa020b20-d412-4c24-b1a3-220f5b718dc0",
   "metadata": {},
   "source": [
    "# String"
   ]
  },
  {
   "cell_type": "code",
   "execution_count": 1,
   "id": "16f459e9-27ce-43e5-80fd-fb9aa563da27",
   "metadata": {},
   "outputs": [
    {
     "data": {
      "text/plain": [
       "'xce'"
      ]
     },
     "execution_count": 1,
     "metadata": {},
     "output_type": "execute_result"
    }
   ],
   "source": [
    "#syntax  #immutable\n",
    "\n",
    "str1 = \"excelr\"\n",
    "\n",
    "#text sequence\n",
    "\n",
    "#  e  x  c  e  l  r\n",
    "#  0  1  2  3  4  5  +ve indexing\n",
    "# -6 -5 -4 -3 -2 -1  -ve indexing\n",
    "\n",
    "#slicing or accessing\n",
    "\n",
    "#indexing  -> []\n",
    "\n",
    "str1[1:4]  #ve  #str[lowerlimit:upperlimit]"
   ]
  },
  {
   "cell_type": "code",
   "execution_count": 2,
   "id": "7ecdb711-5825-41f0-9957-af053669af8a",
   "metadata": {},
   "outputs": [
    {
     "data": {
      "text/plain": [
       "'xcel'"
      ]
     },
     "execution_count": 2,
     "metadata": {},
     "output_type": "execute_result"
    }
   ],
   "source": [
    "#type() - inbuilt\n",
    "\n",
    "str1[1:5]  #str1   #str[lowerlimit:upperlimit]  #upper limit is not consider (n-1)"
   ]
  },
  {
   "cell_type": "code",
   "execution_count": 3,
   "id": "630e1824-04f3-441d-bc92-24632d41347a",
   "metadata": {},
   "outputs": [
    {
     "data": {
      "text/plain": [
       "'xce'"
      ]
     },
     "execution_count": 3,
     "metadata": {},
     "output_type": "execute_result"
    }
   ],
   "source": [
    "str1[-5:-2]  #-ve indexing"
   ]
  },
  {
   "cell_type": "code",
   "execution_count": 4,
   "id": "84a0b2f2-4efa-44f1-8254-34d48cc6cf65",
   "metadata": {},
   "outputs": [
    {
     "data": {
      "text/plain": [
       "'excelr'"
      ]
     },
     "execution_count": 4,
     "metadata": {},
     "output_type": "execute_result"
    }
   ],
   "source": [
    "str1  #entire"
   ]
  },
  {
   "cell_type": "code",
   "execution_count": 5,
   "id": "839878bc-cd2d-46bc-965b-856d0601379e",
   "metadata": {},
   "outputs": [
    {
     "data": {
      "text/plain": [
       "'excelr'"
      ]
     },
     "execution_count": 5,
     "metadata": {},
     "output_type": "execute_result"
    }
   ],
   "source": [
    "str1[:]  #entire str  #str1[lowerlimit:upperlimit]"
   ]
  },
  {
   "cell_type": "code",
   "execution_count": 6,
   "id": "047d722f-3f83-4344-87d6-68e367e7ac55",
   "metadata": {},
   "outputs": [
    {
     "data": {
      "text/plain": [
       "'excelr'"
      ]
     },
     "execution_count": 6,
     "metadata": {},
     "output_type": "execute_result"
    }
   ],
   "source": [
    "str1[::]  #entire  #str1[lowerlimit:upperlimit:step(1)(optinal)]"
   ]
  },
  {
   "cell_type": "code",
   "execution_count": 7,
   "id": "34fbe0e4-da47-4f0b-804c-edbe6564ec99",
   "metadata": {},
   "outputs": [
    {
     "data": {
      "text/plain": [
       "'ee'"
      ]
     },
     "execution_count": 7,
     "metadata": {},
     "output_type": "execute_result"
    }
   ],
   "source": [
    "str1[::3]"
   ]
  },
  {
   "cell_type": "code",
   "execution_count": 8,
   "id": "40ad8871-cb41-47ce-a4e8-9807be9fca4f",
   "metadata": {},
   "outputs": [
    {
     "name": "stdout",
     "output_type": "stream",
     "text": [
      "rlecxe\n"
     ]
    }
   ],
   "source": [
    "str_new = str1[::-1] #reverse order of the string\n",
    "print(str_new)"
   ]
  },
  {
   "cell_type": "code",
   "execution_count": 9,
   "id": "17aa9bfd-f519-4901-9c64-f8ebfb9f138b",
   "metadata": {},
   "outputs": [
    {
     "data": {
      "text/plain": [
       "'excelr'"
      ]
     },
     "execution_count": 9,
     "metadata": {},
     "output_type": "execute_result"
    }
   ],
   "source": [
    "str1"
   ]
  },
  {
   "cell_type": "code",
   "execution_count": 10,
   "id": "8cd525a7-0a25-4ea2-90c0-3d23b7c088d2",
   "metadata": {},
   "outputs": [
    {
     "name": "stdout",
     "output_type": "stream",
     "text": [
      "r\n",
      "r\n"
     ]
    }
   ],
   "source": [
    "print(str1[-1]); print(str1[5])"
   ]
  },
  {
   "cell_type": "code",
   "execution_count": 11,
   "id": "6daf7697-f863-4fcd-89bb-a29be1228790",
   "metadata": {},
   "outputs": [
    {
     "data": {
      "text/plain": [
       "9"
      ]
     },
     "execution_count": 11,
     "metadata": {},
     "output_type": "execute_result"
    }
   ],
   "source": [
    "str1 = \"excelr   \"\n",
    "\n",
    "len(str1)  #len(var) #length  - default  fn"
   ]
  },
  {
   "cell_type": "code",
   "execution_count": 12,
   "id": "099641b2-63ec-4470-b364-2090089cb5c0",
   "metadata": {},
   "outputs": [
    {
     "data": {
      "text/plain": [
       "str"
      ]
     },
     "execution_count": 12,
     "metadata": {},
     "output_type": "execute_result"
    }
   ],
   "source": [
    "type(str1)"
   ]
  },
  {
   "cell_type": "code",
   "execution_count": 13,
   "id": "0f0b41c9-3e87-4e71-a5f6-bdbc6e1bcb7f",
   "metadata": {},
   "outputs": [
    {
     "name": "stdout",
     "output_type": "stream",
     "text": [
      "excelr Solutions\n",
      "excelr5\n",
      "excelr5\n"
     ]
    }
   ],
   "source": [
    "#updating or adding  #concatinating  # +\n",
    "\n",
    "str1 = \"excelr\"\n",
    "\n",
    "str2 = \"Solutions\"  #you can add str to str\n",
    "\n",
    "print(str1 + \" \"+ str2)\n",
    "\n",
    "print(str1+\"5\")\n",
    "\n",
    "print(str1+str(5))\n",
    "\n",
    "#TypeError: Can only concatenate str (not \"int\") to str"
   ]
  },
  {
   "cell_type": "code",
   "execution_count": 14,
   "id": "a8640cbb-169d-4e4c-8a73-b8b9c7829ab0",
   "metadata": {},
   "outputs": [],
   "source": [
    "#\"\" or ''\n",
    "\n",
    "#\\ - escape character\n",
    "\n",
    "new_str = \"this is the 1st line\\\n",
    "this is the 2nd line\\\n",
    "this is 3rd line\"\n",
    "\n",
    "# print(new_str)"
   ]
  },
  {
   "cell_type": "code",
   "execution_count": 15,
   "id": "62a794fc-adc2-41ba-b19d-8b109cd73d11",
   "metadata": {},
   "outputs": [],
   "source": [
    "# triple quotations -> #write the str in multiple lines # to balance the quotations\n",
    "new = \"\"\"This is For an \"example\"\n",
    "For your understanding\n",
    "this is the 3rd line\"\"\"\n",
    "# \\n  - new line"
   ]
  },
  {
   "cell_type": "code",
   "execution_count": 16,
   "id": "459b06d8-d144-4f7f-aed1-3ebdc47fa3eb",
   "metadata": {},
   "outputs": [
    {
     "data": {
      "text/plain": [
       "'This is For an \"example\"\\nFor your understanding\\nthis is the 3rd line'"
      ]
     },
     "execution_count": 16,
     "metadata": {},
     "output_type": "execute_result"
    }
   ],
   "source": [
    "new"
   ]
  },
  {
   "cell_type": "code",
   "execution_count": 17,
   "id": "aded862e-f693-485c-87fa-02a9673494c4",
   "metadata": {},
   "outputs": [
    {
     "name": "stdout",
     "output_type": "stream",
     "text": [
      "This is For an \"example\"\n",
      "For your understanding\n",
      "this is the 3rd line\n"
     ]
    }
   ],
   "source": [
    "print(new)"
   ]
  },
  {
   "cell_type": "code",
   "execution_count": 18,
   "id": "49bba560-23a0-4d42-bc8a-9b470cc46a6c",
   "metadata": {},
   "outputs": [
    {
     "data": {
      "text/plain": [
       "'THIS IS FOR AN \"EXAMPLE\"\\nFOR YOUR UNDERSTANDING\\nTHIS IS THE 3RD LINE'"
      ]
     },
     "execution_count": 18,
     "metadata": {},
     "output_type": "execute_result"
    }
   ],
   "source": [
    "#different inbuilt fn's for diff dtypes\n",
    "\n",
    "#str.\n",
    "\n",
    "new.upper()\n",
    "\n",
    "# replace, split, count,.isdigit, isalpha, upper, lower, title, capitalize #inbuilt functions for the "
   ]
  },
  {
   "cell_type": "code",
   "execution_count": 19,
   "id": "5908369c-35cc-41c6-be15-dfeb4311832d",
   "metadata": {},
   "outputs": [
    {
     "name": "stdout",
     "output_type": "stream",
     "text": [
      "Help on built-in function replace:\n",
      "\n",
      "replace(old, new, count=-1, /) method of builtins.str instance\n",
      "    Return a copy with all occurrences of substring old replaced by new.\n",
      "    \n",
      "      count\n",
      "        Maximum number of occurrences to replace.\n",
      "        -1 (the default value) means replace all occurrences.\n",
      "    \n",
      "    If the optional argument count is given, only the first count occurrences are\n",
      "    replaced.\n",
      "\n"
     ]
    }
   ],
   "source": [
    "#replace\n",
    "\n",
    "help(new.replace) #help(str.replace) \n",
    "#old, new are mandatory argument although count is optional\n",
    "# str.replace()"
   ]
  },
  {
   "cell_type": "code",
   "execution_count": 20,
   "id": "553501b4-8d3c-4dfe-9511-9ccd6387f929",
   "metadata": {},
   "outputs": [
    {
     "data": {
      "text/plain": [
       "'This is For an \"example\"\\nFor your understanding\\nthis is the 3rd line'"
      ]
     },
     "execution_count": 20,
     "metadata": {},
     "output_type": "execute_result"
    }
   ],
   "source": [
    "new"
   ]
  },
  {
   "cell_type": "code",
   "execution_count": 21,
   "id": "36602316-99ce-4955-8421-48042ea86477",
   "metadata": {},
   "outputs": [
    {
     "data": {
      "text/plain": [
       "'This is To an \"example\"\\nTo your understanding\\nthis is the 3rd line'"
      ]
     },
     "execution_count": 21,
     "metadata": {},
     "output_type": "execute_result"
    }
   ],
   "source": [
    "new.replace(\"For\",\"To\") #count = -1 #new.replace(old, new)"
   ]
  },
  {
   "cell_type": "code",
   "execution_count": 22,
   "id": "c1a94dd9-98e3-45b1-9eae-1c0572f744be",
   "metadata": {},
   "outputs": [],
   "source": [
    "new = new.replace(\"For\",\"To\", 1) #count = 1"
   ]
  },
  {
   "cell_type": "code",
   "execution_count": 23,
   "id": "7ce030bd-37b2-4f67-9e39-7ff005665f12",
   "metadata": {},
   "outputs": [
    {
     "data": {
      "text/plain": [
       "'This is To an \"example\"\\nFor your understanding\\nthis is the 3rd line'"
      ]
     },
     "execution_count": 23,
     "metadata": {},
     "output_type": "execute_result"
    }
   ],
   "source": [
    "new"
   ]
  },
  {
   "cell_type": "raw",
   "id": "47d10aa9-3a6b-4e72-809f-157557710bce",
   "metadata": {},
   "source": [
    "In Python, strings are immutable. Once created, their values cannot be changed. However, \n",
    "you can create new strings through operations like concatenation or slicing.\n",
    "\n",
    "If you need mutable string-like behavior, you can use a list of characters instead. Lists are mutable, so you can change their elements.\n",
    "\n",
    "Here's a concise explanation:\n",
    "\n",
    "Immutable strings\n",
    "s = \"hello\"\n",
    "s += \" world\"        # Creates a new string object\n",
    "\n",
    "-------------------------------------------------------------------------------------------------------------------------------------------------\n",
    "\n",
    "Mutable-like behavior using lists\n",
    "s_list = list(\"hello\")\n",
    "s_list[0] = \"H\"       # Change the first character\n",
    "s = ''.join(s_list)   # Convert back to string\n",
    "\n",
    "------------------------------------------------------------------------------------------------------------------------------------------------\n",
    "Here's a simplified explanation of what's going on architecturally:\n",
    "\n",
    "Original String Creation: Initially, the string \"hello\" is created and assigned to the variable s. Let's say it resides in memory location X.\n",
    "\n",
    "Concatenation Operation: When you do s += \" world\", Python creates a new string that combines the contents of the original string s (\"hello\") \n",
    "with the string \" world\". This new string is \"hello world\".\n",
    "\n",
    "New String Creation: Since strings are immutable, Python creates a new string object containing \"hello world\". Let's say this new string resides\n",
    "in memory location Y.\n",
    "\n",
    "Variable Reassignment: The variable s is then reassigned to point to this new memory location Y where the new string \"hello world\" resides."
   ]
  },
  {
   "cell_type": "code",
   "execution_count": 25,
   "id": "da42fd1a-04ed-4d79-b9c3-8750b887c23f",
   "metadata": {
    "scrolled": true
   },
   "outputs": [
    {
     "name": "stdout",
     "output_type": "stream",
     "text": [
      "Help on method_descriptor:\n",
      "\n",
      "split(self, /, sep=None, maxsplit=-1)\n",
      "    Return a list of the substrings in the string, using sep as the separator string.\n",
      "    \n",
      "      sep\n",
      "        The separator used to split the string.\n",
      "    \n",
      "        When set to None (the default value), will split on any whitespace\n",
      "        character (including \\n \\r \\t \\f and spaces) and will discard\n",
      "        empty strings from the result.\n",
      "      maxsplit\n",
      "        Maximum number of splits (starting from the left).\n",
      "        -1 (the default value) means no limit.\n",
      "    \n",
      "    Note, str.split() is mainly useful for data that has been intentionally\n",
      "    delimited.  With natural text that includes punctuation, consider using\n",
      "    the regular expression module.\n",
      "\n"
     ]
    }
   ],
   "source": [
    "help(str.split)"
   ]
  },
  {
   "cell_type": "code",
   "execution_count": 26,
   "id": "50849252-3ee7-407d-a5ee-318185ca9d2f",
   "metadata": {},
   "outputs": [
    {
     "name": "stdout",
     "output_type": "stream",
     "text": [
      "8\n",
      "['This', 'is', 'For', 'an', '\"example\".', 'For', 'your', 'understanding']\n"
     ]
    }
   ],
   "source": [
    "#split()\n",
    "\n",
    "new = \"\"\"This is For an \"example\". For your understanding\"\"\"\n",
    "print(len(new.split()))\n",
    "\n",
    "print(new.split())  #split() #sep =None  #split()"
   ]
  },
  {
   "cell_type": "code",
   "execution_count": 27,
   "id": "b9921f67-8e2f-48d1-87e4-31dca5e6e053",
   "metadata": {},
   "outputs": [
    {
     "data": {
      "text/plain": [
       "['This is For ', ' \"example\". For your underst', 'ding']"
      ]
     },
     "execution_count": 27,
     "metadata": {},
     "output_type": "execute_result"
    }
   ],
   "source": [
    "new.split(sep = \"an\")"
   ]
  },
  {
   "cell_type": "code",
   "execution_count": 28,
   "id": "1f0f0b06-4128-4b3c-8461-ed0b1132b0ee",
   "metadata": {},
   "outputs": [
    {
     "data": {
      "text/plain": [
       "['This is For an \"example\"', ' For your understanding']"
      ]
     },
     "execution_count": 28,
     "metadata": {},
     "output_type": "execute_result"
    }
   ],
   "source": [
    "new.split(sep = \".\")"
   ]
  },
  {
   "cell_type": "code",
   "execution_count": 29,
   "id": "54990c43-80ad-4f81-8f96-e1eacc23e97e",
   "metadata": {},
   "outputs": [
    {
     "data": {
      "text/plain": [
       "\"I'm, manish.\\nI, am dhawan.\\nI, am a footballer\""
      ]
     },
     "execution_count": 29,
     "metadata": {},
     "output_type": "execute_result"
    }
   ],
   "source": [
    "new2 = \"\"\"I'm, manish.\n",
    "I, am dhawan.\n",
    "I, am a footballer\"\"\"\n",
    "\n",
    "new2"
   ]
  },
  {
   "cell_type": "code",
   "execution_count": 30,
   "id": "991800e9-d1e6-430c-b433-f7eb6e455a16",
   "metadata": {},
   "outputs": [
    {
     "data": {
      "text/plain": [
       "[\"I'm, manish\", '\\nI, am dhawan', '\\nI, am a footballer']"
      ]
     },
     "execution_count": 30,
     "metadata": {},
     "output_type": "execute_result"
    }
   ],
   "source": [
    "new2.split(\".\")"
   ]
  },
  {
   "cell_type": "code",
   "execution_count": 31,
   "id": "fc6bf271-7aeb-4be4-8e03-c459d4c1f6f9",
   "metadata": {},
   "outputs": [
    {
     "data": {
      "text/plain": [
       "1"
      ]
     },
     "execution_count": 31,
     "metadata": {},
     "output_type": "execute_result"
    }
   ],
   "source": [
    "#str.count(substr)\n",
    "new2.count(\"footballer\")"
   ]
  },
  {
   "cell_type": "code",
   "execution_count": 32,
   "id": "14d57a4d-ff8e-4f83-99ae-327c5e778fc9",
   "metadata": {},
   "outputs": [
    {
     "data": {
      "text/plain": [
       "\"I'M, MANISH.\\nI, AM DHAWAN.\\nI, AM A FOOTBALLER\""
      ]
     },
     "execution_count": 32,
     "metadata": {},
     "output_type": "execute_result"
    }
   ],
   "source": [
    "new2.upper() #convert the string to capital's"
   ]
  },
  {
   "cell_type": "code",
   "execution_count": 33,
   "id": "ad4668a8-8a43-4b80-98d9-d60b18c8a140",
   "metadata": {},
   "outputs": [
    {
     "data": {
      "text/plain": [
       "\"i'm, manish.\\ni, am dhawan.\\ni, am a footballer\""
      ]
     },
     "execution_count": 33,
     "metadata": {},
     "output_type": "execute_result"
    }
   ],
   "source": [
    "new2.lower()"
   ]
  },
  {
   "cell_type": "code",
   "execution_count": 34,
   "id": "baf2e6ef-d25e-4dea-ad36-e94efc3fb84d",
   "metadata": {},
   "outputs": [
    {
     "data": {
      "text/plain": [
       "'Excelr Solutions Is A Training Institute'"
      ]
     },
     "execution_count": 34,
     "metadata": {},
     "output_type": "execute_result"
    }
   ],
   "source": [
    "new2 = \"excelr solutions is a training institute\"\n",
    "new2.title()"
   ]
  },
  {
   "cell_type": "code",
   "execution_count": 35,
   "id": "d507714b-3c60-4c8e-8ce0-9f05fac0a10a",
   "metadata": {},
   "outputs": [
    {
     "data": {
      "text/plain": [
       "'Excelr solutions is a training institute'"
      ]
     },
     "execution_count": 35,
     "metadata": {},
     "output_type": "execute_result"
    }
   ],
   "source": [
    "new2.capitalize()"
   ]
  },
  {
   "cell_type": "code",
   "execution_count": 36,
   "id": "7f2be46d-cfcf-4a2f-a209-9c5bf7f40979",
   "metadata": {},
   "outputs": [
    {
     "name": "stdout",
     "output_type": "stream",
     "text": [
      "False False False\n"
     ]
    }
   ],
   "source": [
    "new = \"123@\"\n",
    "\n",
    "#.isalumn - checks whether the str is entirely alpha or numeric or mix of the them. if yes , true\n",
    "\n",
    "print(new.isalpha(), new.isalnum(), new.isnumeric())  #output  - boolean values  -  True  or False"
   ]
  },
  {
   "cell_type": "code",
   "execution_count": 37,
   "id": "5878f538-efc9-493d-a236-8b0a9e190886",
   "metadata": {},
   "outputs": [
    {
     "data": {
      "text/plain": [
       "False"
      ]
     },
     "execution_count": 37,
     "metadata": {},
     "output_type": "execute_result"
    }
   ],
   "source": [
    "\"new\".isupper()"
   ]
  },
  {
   "cell_type": "code",
   "execution_count": 38,
   "id": "a78f2f57-743e-4b01-9468-e70d7d9ca644",
   "metadata": {},
   "outputs": [
    {
     "data": {
      "text/plain": [
       "True"
      ]
     },
     "execution_count": 38,
     "metadata": {},
     "output_type": "execute_result"
    }
   ],
   "source": [
    "\"new\".islower()"
   ]
  },
  {
   "cell_type": "markdown",
   "id": "798a9610-c326-43a3-9c8d-3899aed54833",
   "metadata": {},
   "source": [
    "# List"
   ]
  },
  {
   "cell_type": "raw",
   "id": "785b2670-475d-4adb-8481-528477aee510",
   "metadata": {},
   "source": [
    "\n",
    "In Python, the symbols [ ] are used to denote both lists and arrays. However, arrays in Python usually refer to arrays provided by \n",
    "libraries like NumPy, which are mutable and optimized for numerical operations.\n",
    "\n",
    "When we talk about Python's built-in data types, lists ([]) are mutable, meaning their elements can be changed after creation,\n",
    "while tuples (()) are immutable, meaning once they are created, their elements\n",
    "cannot be changed.\n",
    "\n",
    "The choice of symbols ([] for lists and () for tuples) is primarily a matter of convention and readability. It helps in quickly \n",
    "distinguishing between lists and tuples and aids in writing more readable and maintainable code.\n",
    "\n",
    "my_list = [1, 2, 3, 4]  # Mutable list\n",
    "my_tuple = (1, 2, 3, 4) # Immutable tuple\n"
   ]
  },
  {
   "cell_type": "code",
   "execution_count": 40,
   "id": "4498eb43-69e7-469b-b96d-56008644b31f",
   "metadata": {},
   "outputs": [],
   "source": [
    "# List (Mutable)"
   ]
  },
  {
   "cell_type": "code",
   "execution_count": 41,
   "id": "2c20be89-064d-47df-b4c4-bd57249b5247",
   "metadata": {},
   "outputs": [
    {
     "name": "stdout",
     "output_type": "stream",
     "text": [
      "['p', 'y', 't', 'h', 'o', 'n']\n",
      "('p', 'y', 't', 'h', 'o', 'n')\n"
     ]
    }
   ],
   "source": [
    "print(list(\"python\"))    #str(5)\n",
    "\n",
    "print(tuple(\"python\"))"
   ]
  },
  {
   "cell_type": "code",
   "execution_count": 42,
   "id": "e88cbed3-5e03-4178-96cd-338c3dc412ed",
   "metadata": {},
   "outputs": [
    {
     "name": "stdout",
     "output_type": "stream",
     "text": [
      "[5, 2.2, True, 'text']\n",
      "[1, 23, 4, 5, 6, 7.5]\n",
      "(5, 2.2, True, 'text')\n"
     ]
    }
   ],
   "source": [
    "list_1 = [5,2.2,True,\"text\"]\n",
    "list_2 = [1,23,4,5,6,7.5]\n",
    "\n",
    "tuple1 = (5,2.2,True,\"text\")\n",
    "\n",
    "print(list_1)\n",
    "print(list_2)\n",
    "print(tuple1)"
   ]
  },
  {
   "cell_type": "code",
   "execution_count": 43,
   "id": "976a7664-0d7a-4966-822a-877de74c4156",
   "metadata": {},
   "outputs": [
    {
     "data": {
      "text/plain": [
       "2715846666688"
      ]
     },
     "execution_count": 43,
     "metadata": {},
     "output_type": "execute_result"
    }
   ],
   "source": [
    "id(list_1)   #id(var)"
   ]
  },
  {
   "cell_type": "code",
   "execution_count": 44,
   "id": "2276e254-8540-4713-bef9-d8413495b3c6",
   "metadata": {},
   "outputs": [],
   "source": [
    "list_1.append(25)  #will add the elements from the end of the list"
   ]
  },
  {
   "cell_type": "code",
   "execution_count": 45,
   "id": "da9dadbd-7b62-4670-bd4b-77dacd3a626f",
   "metadata": {},
   "outputs": [
    {
     "data": {
      "text/plain": [
       "[5, 2.2, True, 'text', 25]"
      ]
     },
     "execution_count": 45,
     "metadata": {},
     "output_type": "execute_result"
    }
   ],
   "source": [
    "list_1"
   ]
  },
  {
   "cell_type": "code",
   "execution_count": 46,
   "id": "18bc31f0-87c3-4c54-a3a4-ffdaffaed198",
   "metadata": {},
   "outputs": [
    {
     "data": {
      "text/plain": [
       "2715846666688"
      ]
     },
     "execution_count": 46,
     "metadata": {},
     "output_type": "execute_result"
    }
   ],
   "source": [
    "id(list_1)"
   ]
  },
  {
   "cell_type": "code",
   "execution_count": 47,
   "id": "b35a51df-658c-49f1-b5a8-3b886cd8b5b3",
   "metadata": {},
   "outputs": [
    {
     "data": {
      "text/plain": [
       "[2.2, True]"
      ]
     },
     "execution_count": 47,
     "metadata": {},
     "output_type": "execute_result"
    }
   ],
   "source": [
    "list_1 = [5,2.2,True,\"text\"]\n",
    "       #  0  1  2  3\n",
    "       # -4 -3 -2 -1\n",
    "\n",
    "list_1[-3:-1] #upper limit is not considered "
   ]
  },
  {
   "cell_type": "code",
   "execution_count": 48,
   "id": "f7135f91-2119-4731-b696-b5e18248f2d1",
   "metadata": {},
   "outputs": [
    {
     "data": {
      "text/plain": [
       "[True, 'text']"
      ]
     },
     "execution_count": 48,
     "metadata": {},
     "output_type": "execute_result"
    }
   ],
   "source": [
    "list_1[2:4]"
   ]
  },
  {
   "cell_type": "code",
   "execution_count": 49,
   "id": "439bd2e6-32bf-46e7-b81f-d6a4d5063bef",
   "metadata": {},
   "outputs": [
    {
     "data": {
      "text/plain": [
       "[2.2, True, 'text']"
      ]
     },
     "execution_count": 49,
     "metadata": {},
     "output_type": "execute_result"
    }
   ],
   "source": [
    "list_1[1:]"
   ]
  },
  {
   "cell_type": "code",
   "execution_count": 50,
   "id": "35c3580e-c363-4d0e-b6d3-da6408f42954",
   "metadata": {},
   "outputs": [
    {
     "data": {
      "text/plain": [
       "[5, 2.2, True, 'text']"
      ]
     },
     "execution_count": 50,
     "metadata": {},
     "output_type": "execute_result"
    }
   ],
   "source": [
    "list_1[:]"
   ]
  },
  {
   "cell_type": "code",
   "execution_count": 51,
   "id": "4ad4d950-8815-4102-8379-f71dd02a88d2",
   "metadata": {},
   "outputs": [
    {
     "data": {
      "text/plain": [
       "[True, 'text']"
      ]
     },
     "execution_count": 51,
     "metadata": {},
     "output_type": "execute_result"
    }
   ],
   "source": [
    "list_1[-2:]"
   ]
  },
  {
   "cell_type": "code",
   "execution_count": 52,
   "id": "feb9058d-fda8-4dd7-84f2-4053535e1233",
   "metadata": {},
   "outputs": [
    {
     "data": {
      "text/plain": [
       "[2.2, True, 'text']"
      ]
     },
     "execution_count": 52,
     "metadata": {},
     "output_type": "execute_result"
    }
   ],
   "source": [
    "list_1[-3:]"
   ]
  },
  {
   "cell_type": "code",
   "execution_count": 53,
   "id": "3429e947-c3db-4aa6-b74e-031d7d9f2118",
   "metadata": {},
   "outputs": [
    {
     "data": {
      "text/plain": [
       "[5, 2.2, True]"
      ]
     },
     "execution_count": 53,
     "metadata": {},
     "output_type": "execute_result"
    }
   ],
   "source": [
    "list_1[:3]"
   ]
  },
  {
   "cell_type": "code",
   "execution_count": 54,
   "id": "d1fe6dd4-c260-4737-bf64-0ed5a8b78934",
   "metadata": {},
   "outputs": [
    {
     "name": "stdout",
     "output_type": "stream",
     "text": [
      "['text', True, 2.2, 5]\n",
      "[5, True]\n"
     ]
    }
   ],
   "source": [
    "print(list_1[::-1]) #reverse order\n",
    "\n",
    "print(list_1[::2])  #step value is 2"
   ]
  },
  {
   "cell_type": "code",
   "execution_count": 55,
   "id": "b736d13d-44b7-4554-9cb0-bbfcadacd72c",
   "metadata": {},
   "outputs": [
    {
     "data": {
      "text/plain": [
       "4"
      ]
     },
     "execution_count": 55,
     "metadata": {},
     "output_type": "execute_result"
    }
   ],
   "source": [
    "len(list_1)"
   ]
  },
  {
   "cell_type": "code",
   "execution_count": 56,
   "id": "c94b7d8d-ba2b-49e9-b566-3127bab60eaa",
   "metadata": {},
   "outputs": [
    {
     "data": {
      "text/plain": [
       "list"
      ]
     },
     "execution_count": 56,
     "metadata": {},
     "output_type": "execute_result"
    }
   ],
   "source": [
    "type(list_1)"
   ]
  },
  {
   "cell_type": "code",
   "execution_count": 57,
   "id": "1705be02-e533-40bc-8070-fe2e5e06da46",
   "metadata": {},
   "outputs": [],
   "source": [
    "#append, extend. insert, pop, remove\n",
    "\n",
    "list_1 = [5,2.2,True,\"text\"]"
   ]
  },
  {
   "cell_type": "code",
   "execution_count": 58,
   "id": "e711b0d0-8620-4892-a2d7-0b5daadd9412",
   "metadata": {},
   "outputs": [],
   "source": [
    " list_1.append(25)  #add elements at the end"
   ]
  },
  {
   "cell_type": "code",
   "execution_count": 59,
   "id": "b5bbe055-ae7d-4c5f-b54a-30e6690a742b",
   "metadata": {},
   "outputs": [
    {
     "data": {
      "text/plain": [
       "[5, 2.2, True, 'text', 25]"
      ]
     },
     "execution_count": 59,
     "metadata": {},
     "output_type": "execute_result"
    }
   ],
   "source": [
    "list_1"
   ]
  },
  {
   "cell_type": "code",
   "execution_count": 60,
   "id": "7505e9a7-6942-44d8-a1bd-0f86f3bf0b56",
   "metadata": {},
   "outputs": [
    {
     "name": "stdout",
     "output_type": "stream",
     "text": [
      "Help on built-in function insert:\n",
      "\n",
      "insert(index, object, /) method of builtins.list instance\n",
      "    Insert object before index.\n",
      "\n"
     ]
    }
   ],
   "source": [
    "help(list_1.insert)"
   ]
  },
  {
   "cell_type": "code",
   "execution_count": 61,
   "id": "10dc7fae-693a-48e0-bb70-21d15055ca53",
   "metadata": {},
   "outputs": [],
   "source": [
    "#insert()\n",
    "\n",
    "list_1.insert(3,\"text1\")  #insert(index,new_element)"
   ]
  },
  {
   "cell_type": "code",
   "execution_count": 62,
   "id": "960ed740-44f4-448a-9a28-3b9834d6f620",
   "metadata": {},
   "outputs": [
    {
     "data": {
      "text/plain": [
       "[5, 2.2, True, 'text1', 'text', 25]"
      ]
     },
     "execution_count": 62,
     "metadata": {},
     "output_type": "execute_result"
    }
   ],
   "source": [
    "list_1"
   ]
  },
  {
   "cell_type": "code",
   "execution_count": 85,
   "id": "ba3fc6e1-0e88-48e4-91c7-0cd5f4468b9d",
   "metadata": {},
   "outputs": [],
   "source": [
    "list_1 = [5,2.2,True,\"text\"]\n",
    "\n",
    "list_2 = [1,2,3,4,5,6]"
   ]
  },
  {
   "cell_type": "code",
   "execution_count": 86,
   "id": "f35e1d0c-409d-4957-8651-ca9bfdece26a",
   "metadata": {},
   "outputs": [],
   "source": [
    "#extend  #concat\n",
    "\n",
    "list_1.extend(list_2)\n",
    "\n",
    "#list_1+list_2"
   ]
  },
  {
   "cell_type": "code",
   "execution_count": 87,
   "id": "fc21f51d-006b-477c-b67d-c500499ff7e1",
   "metadata": {},
   "outputs": [
    {
     "data": {
      "text/plain": [
       "[5, 2.2, True, 'text', 1, 2, 3, 4, 5, 6]"
      ]
     },
     "execution_count": 87,
     "metadata": {},
     "output_type": "execute_result"
    }
   ],
   "source": [
    "list_1"
   ]
  },
  {
   "cell_type": "code",
   "execution_count": 97,
   "id": "9a1d9a5b-7271-4246-a890-87756e211e8d",
   "metadata": {},
   "outputs": [
    {
     "name": "stdout",
     "output_type": "stream",
     "text": [
      "[5, 2.2, True, 'text', [1, 2, 3, 4, 5, 6, 7]]\n"
     ]
    }
   ],
   "source": [
    "list_1 = [5,2.2,True,\"text\"]\n",
    "\n",
    "list_3 = [1,2,3,4,5,6,7]\n",
    "\n",
    "list_1.append(list_3)\n",
    "\n",
    "print(list_1)\n",
    "\n",
    "#nested list => a lsit within a list"
   ]
  },
  {
   "cell_type": "code",
   "execution_count": 98,
   "id": "563dfabf-70b3-4a48-9272-add11e02a35e",
   "metadata": {},
   "outputs": [
    {
     "data": {
      "text/plain": [
       "[5, 2.2, True, 'text', [1, 2, 3, 4, 5, 6, 7]]"
      ]
     },
     "execution_count": 98,
     "metadata": {},
     "output_type": "execute_result"
    }
   ],
   "source": [
    "list_1"
   ]
  },
  {
   "cell_type": "code",
   "execution_count": 104,
   "id": "4f5497c9-b3b2-4a13-9195-46df23d28a19",
   "metadata": {},
   "outputs": [
    {
     "data": {
      "text/plain": [
       "float"
      ]
     },
     "execution_count": 104,
     "metadata": {},
     "output_type": "execute_result"
    }
   ],
   "source": [
    "type(list_1[1])"
   ]
  },
  {
   "cell_type": "code",
   "execution_count": 105,
   "id": "c2f5e7b4-268e-4dfb-883e-04c863d6f21c",
   "metadata": {},
   "outputs": [
    {
     "data": {
      "text/plain": [
       "list"
      ]
     },
     "execution_count": 105,
     "metadata": {},
     "output_type": "execute_result"
    }
   ],
   "source": [
    "type(list_1[4])"
   ]
  },
  {
   "cell_type": "code",
   "execution_count": 106,
   "id": "dea1b648-4cff-42f5-88a7-0b9c8f2b6545",
   "metadata": {},
   "outputs": [
    {
     "data": {
      "text/plain": [
       "[1, 2, 3, 4, 5, 6, 7]"
      ]
     },
     "execution_count": 106,
     "metadata": {},
     "output_type": "execute_result"
    }
   ],
   "source": [
    "list_1[4]"
   ]
  },
  {
   "cell_type": "code",
   "execution_count": 107,
   "id": "c31aa60a-6df7-4c60-9c78-8a39eb862fb4",
   "metadata": {},
   "outputs": [
    {
     "data": {
      "text/plain": [
       "[3, 4]"
      ]
     },
     "execution_count": 107,
     "metadata": {},
     "output_type": "execute_result"
    }
   ],
   "source": [
    "list_1[4][2:4]"
   ]
  },
  {
   "cell_type": "code",
   "execution_count": 99,
   "id": "e60042c0-2ef2-474f-b1c6-2cab5d1bd382",
   "metadata": {},
   "outputs": [
    {
     "data": {
      "text/plain": [
       "3"
      ]
     },
     "execution_count": 99,
     "metadata": {},
     "output_type": "execute_result"
    }
   ],
   "source": [
    "list_1[4][2] "
   ]
  },
  {
   "cell_type": "code",
   "execution_count": 100,
   "id": "c1ffb12b-52e5-4ed5-8e68-d13136b5a54a",
   "metadata": {},
   "outputs": [
    {
     "data": {
      "text/plain": [
       "3"
      ]
     },
     "execution_count": 100,
     "metadata": {},
     "output_type": "execute_result"
    }
   ],
   "source": [
    "list_1[-1][-5]"
   ]
  },
  {
   "cell_type": "code",
   "execution_count": 108,
   "id": "4ecc567d-66bd-4e2b-8e5d-a14e666a6491",
   "metadata": {},
   "outputs": [
    {
     "data": {
      "text/plain": [
       "3"
      ]
     },
     "execution_count": 108,
     "metadata": {},
     "output_type": "execute_result"
    }
   ],
   "source": [
    "list_1[-1][2]"
   ]
  },
  {
   "cell_type": "code",
   "execution_count": 101,
   "id": "56fde9cc-3b85-40f6-b5ed-e2e87c11561f",
   "metadata": {},
   "outputs": [
    {
     "data": {
      "text/plain": [
       "[5, 6, 7]"
      ]
     },
     "execution_count": 101,
     "metadata": {},
     "output_type": "execute_result"
    }
   ],
   "source": [
    "list_1[-1][-3:]"
   ]
  },
  {
   "cell_type": "code",
   "execution_count": 102,
   "id": "9cb1f792-b40c-43f4-a421-55fb38797dc0",
   "metadata": {},
   "outputs": [
    {
     "data": {
      "text/plain": [
       "2"
      ]
     },
     "execution_count": 102,
     "metadata": {},
     "output_type": "execute_result"
    }
   ],
   "source": [
    "list_1[4][1]  #1 index  in 4th element"
   ]
  },
  {
   "cell_type": "code",
   "execution_count": 114,
   "id": "89fed70f-e544-4bd9-9467-e39f3baf3e3a",
   "metadata": {},
   "outputs": [
    {
     "data": {
      "text/plain": [
       "[5, 2.2, True, 'text', [1, 2, 3, [10, 12, 13], 4, 5, 6, 7]]"
      ]
     },
     "execution_count": 114,
     "metadata": {},
     "output_type": "execute_result"
    }
   ],
   "source": [
    "new_list = [5,2.2,True,\"text\", [1,2,3,[10,12,13],4,5,6,7]]\n",
    "new_list"
   ]
  },
  {
   "cell_type": "code",
   "execution_count": 116,
   "id": "fbdba51a-5b85-4c96-a770-235aca4a630f",
   "metadata": {},
   "outputs": [],
   "source": [
    "new_list[4][3].append(14)"
   ]
  },
  {
   "cell_type": "code",
   "execution_count": 117,
   "id": "a950a8dd-066c-4169-9494-b3651e967cfd",
   "metadata": {},
   "outputs": [
    {
     "data": {
      "text/plain": [
       "[5, 2.2, True, 'text', [1, 2, 3, [10, 12, 13, 14], 4, 5, 6, 7]]"
      ]
     },
     "execution_count": 117,
     "metadata": {},
     "output_type": "execute_result"
    }
   ],
   "source": [
    "new_list"
   ]
  },
  {
   "cell_type": "code",
   "execution_count": 118,
   "id": "d59d3347-3ef6-4465-b7b3-5562059b8c36",
   "metadata": {},
   "outputs": [],
   "source": [
    "new_list = [5,2.2,True,\"text\", [1,2,3,[10,12,13],4,5,6,7]]"
   ]
  },
  {
   "cell_type": "code",
   "execution_count": 121,
   "id": "62818bd7-85ff-44a0-8ef3-6aa5fdc47d2c",
   "metadata": {},
   "outputs": [],
   "source": [
    "new_list[4][3].insert(1,11)"
   ]
  },
  {
   "cell_type": "code",
   "execution_count": 122,
   "id": "14a09d3b-78b8-4e3a-a389-fcf0fef286e2",
   "metadata": {},
   "outputs": [
    {
     "data": {
      "text/plain": [
       "[5, 2.2, True, 'text', [1, 2, 3, [10, 11, 12, 13], 4, 5, 6, 7]]"
      ]
     },
     "execution_count": 122,
     "metadata": {},
     "output_type": "execute_result"
    }
   ],
   "source": [
    "new_list"
   ]
  },
  {
   "cell_type": "code",
   "execution_count": 2,
   "id": "d47df32c-2816-4bc6-8c2b-425196341ae6",
   "metadata": {},
   "outputs": [],
   "source": [
    "list1 = [5,2.2,True,\"text\"]"
   ]
  },
  {
   "cell_type": "code",
   "execution_count": 129,
   "id": "8a0e8c49-efa4-49b7-973b-e7f97eb623da",
   "metadata": {},
   "outputs": [
    {
     "data": {
      "text/plain": [
       "'xt'"
      ]
     },
     "execution_count": 129,
     "metadata": {},
     "output_type": "execute_result"
    }
   ],
   "source": [
    "list1[3][2:]"
   ]
  },
  {
   "cell_type": "code",
   "execution_count": 132,
   "id": "f598e1e4-54c4-48c4-a1c6-2b7a9452b338",
   "metadata": {},
   "outputs": [],
   "source": [
    "# list1[1][1] #'float' object is not subscriptable"
   ]
  },
  {
   "cell_type": "code",
   "execution_count": 3,
   "id": "57caeb79-db99-41e9-b9e1-4ced2de3a96b",
   "metadata": {},
   "outputs": [
    {
     "data": {
      "text/plain": [
       "'t'"
      ]
     },
     "execution_count": 3,
     "metadata": {},
     "output_type": "execute_result"
    }
   ],
   "source": [
    "list1[3][0]"
   ]
  },
  {
   "cell_type": "code",
   "execution_count": null,
   "id": "3c60ddc3-e87c-4c32-b88c-86608ddd73b7",
   "metadata": {},
   "outputs": [],
   "source": [
    "list1.append"
   ]
  },
  {
   "cell_type": "code",
   "execution_count": 5,
   "id": "b0c0998d-9c3f-48dd-becc-4f78f58f7ca2",
   "metadata": {},
   "outputs": [
    {
     "data": {
      "text/plain": [
       "'TEXT'"
      ]
     },
     "execution_count": 5,
     "metadata": {},
     "output_type": "execute_result"
    }
   ],
   "source": [
    "list1[3].upper()"
   ]
  },
  {
   "cell_type": "code",
   "execution_count": 7,
   "id": "fd5929a1-e637-4855-843b-1fd65478d0a4",
   "metadata": {},
   "outputs": [
    {
     "name": "stdout",
     "output_type": "stream",
     "text": [
      "['text', True, 2.2, 5]\n"
     ]
    }
   ],
   "source": [
    "#reverse #mutable -> once you applied any changes its permanent \n",
    "list_1 = [5,2.2,True,\"text\"]\n",
    "\n",
    "list_1.reverse()\n",
    "\n",
    "print(list_1)\n",
    "\n",
    "#list[::-1]"
   ]
  },
  {
   "cell_type": "code",
   "execution_count": 112,
   "id": "f2cfb2c6-5a5b-4cbe-bb6e-22e7b72a901b",
   "metadata": {},
   "outputs": [],
   "source": [
    "list_1.remove(True)"
   ]
  },
  {
   "cell_type": "code",
   "execution_count": 113,
   "id": "cbd2ce10-d4f7-42c2-8fed-2f6205d64b0a",
   "metadata": {},
   "outputs": [
    {
     "data": {
      "text/plain": [
       "['text', 2.2, 5]"
      ]
     },
     "execution_count": 113,
     "metadata": {},
     "output_type": "execute_result"
    }
   ],
   "source": [
    "list_1"
   ]
  },
  {
   "cell_type": "code",
   "execution_count": 8,
   "id": "e07e6962-89fa-4793-8fa6-66e515e2297c",
   "metadata": {},
   "outputs": [
    {
     "data": {
      "text/plain": [
       "5"
      ]
     },
     "execution_count": 8,
     "metadata": {},
     "output_type": "execute_result"
    }
   ],
   "source": [
    "#pop()\n",
    "#pop(+ve)\n",
    "#pop(-ve)\n",
    "\n",
    "list_1.pop(-1)  #index to remove values  #()  - eliminate or remove the last element ; (2) remove the index"
   ]
  },
  {
   "cell_type": "code",
   "execution_count": 9,
   "id": "c91fbe0d-17cb-4432-95e3-108c8aeda416",
   "metadata": {},
   "outputs": [
    {
     "data": {
      "text/plain": [
       "['text', True, 2.2]"
      ]
     },
     "execution_count": 9,
     "metadata": {},
     "output_type": "execute_result"
    }
   ],
   "source": [
    "list_1"
   ]
  },
  {
   "cell_type": "code",
   "execution_count": 10,
   "id": "e717294e-8859-4bdf-8c41-d3b0f4c2a700",
   "metadata": {},
   "outputs": [
    {
     "data": {
      "text/plain": [
       "2.2"
      ]
     },
     "execution_count": 10,
     "metadata": {},
     "output_type": "execute_result"
    }
   ],
   "source": [
    "list_1.pop()"
   ]
  },
  {
   "cell_type": "code",
   "execution_count": 11,
   "id": "50f25bb7-2ee7-4707-a298-dba1a0d253f9",
   "metadata": {},
   "outputs": [
    {
     "data": {
      "text/plain": [
       "['text', True]"
      ]
     },
     "execution_count": 11,
     "metadata": {},
     "output_type": "execute_result"
    }
   ],
   "source": [
    "list_1"
   ]
  },
  {
   "cell_type": "code",
   "execution_count": 12,
   "id": "4759d8fe-64ba-4c12-8176-fc42ebaff876",
   "metadata": {},
   "outputs": [
    {
     "data": {
      "text/plain": [
       "[]"
      ]
     },
     "execution_count": 12,
     "metadata": {},
     "output_type": "execute_result"
    }
   ],
   "source": [
    "list_1.clear()\n",
    "list_1   #empty list  - [] or list()"
   ]
  },
  {
   "cell_type": "code",
   "execution_count": 13,
   "id": "80331940-c77f-4608-b6d4-a6464f5bbea0",
   "metadata": {},
   "outputs": [
    {
     "data": {
      "text/plain": [
       "[5,\n",
       " 2.2,\n",
       " True,\n",
       " 'text',\n",
       " 5,\n",
       " 2.2,\n",
       " True,\n",
       " 'text',\n",
       " 5,\n",
       " 2.2,\n",
       " True,\n",
       " 'text',\n",
       " 5,\n",
       " 2.2,\n",
       " True,\n",
       " 'text']"
      ]
     },
     "execution_count": 13,
     "metadata": {},
     "output_type": "execute_result"
    }
   ],
   "source": [
    "list_1 = [5,2.2,True,\"text\"]\n",
    "\n",
    "list_1*4"
   ]
  },
  {
   "cell_type": "code",
   "execution_count": 21,
   "id": "2ef24e3e-ef9d-4a5d-8744-d934ecc9cde2",
   "metadata": {},
   "outputs": [],
   "source": [
    "list_3 = [12,52,\"string\"] #'>' not supported between instances of 'str' and 'int'"
   ]
  },
  {
   "cell_type": "code",
   "execution_count": 23,
   "id": "aad222ad-601c-4cb9-97e3-4c786ed58560",
   "metadata": {},
   "outputs": [],
   "source": [
    "list_3 = [12,52,32]"
   ]
  },
  {
   "cell_type": "code",
   "execution_count": 24,
   "id": "46e10a05-6c66-403e-b16d-93ef5eaa177a",
   "metadata": {},
   "outputs": [
    {
     "data": {
      "text/plain": [
       "52"
      ]
     },
     "execution_count": 24,
     "metadata": {},
     "output_type": "execute_result"
    }
   ],
   "source": [
    "max(list_3) #list, tuple, set"
   ]
  },
  {
   "cell_type": "code",
   "execution_count": 25,
   "id": "8b5343ca-136f-4603-bbce-e0e7b18d095d",
   "metadata": {},
   "outputs": [
    {
     "data": {
      "text/plain": [
       "12"
      ]
     },
     "execution_count": 25,
     "metadata": {},
     "output_type": "execute_result"
    }
   ],
   "source": [
    "min(list_3)"
   ]
  },
  {
   "cell_type": "code",
   "execution_count": 27,
   "id": "a92adccc-f6e5-4c68-9b06-7c40c514cded",
   "metadata": {},
   "outputs": [
    {
     "name": "stdout",
     "output_type": "stream",
     "text": [
      "Help on method_descriptor:\n",
      "\n",
      "sort(self, /, *, key=None, reverse=False)\n",
      "    Sort the list in ascending order and return None.\n",
      "    \n",
      "    The sort is in-place (i.e. the list itself is modified) and stable (i.e. the\n",
      "    order of two equal elements is maintained).\n",
      "    \n",
      "    If a key function is given, apply it once to each list item and sort them,\n",
      "    ascending or descending, according to their function values.\n",
      "    \n",
      "    The reverse flag can be set to sort in descending order.\n",
      "\n"
     ]
    }
   ],
   "source": [
    "help(list.sort)  #we can ignore self, /, *"
   ]
  },
  {
   "cell_type": "code",
   "execution_count": 32,
   "id": "3e9edf41-e79f-4656-a9ff-83c20b7c027f",
   "metadata": {},
   "outputs": [
    {
     "name": "stdout",
     "output_type": "stream",
     "text": [
      "[12, 32, 52]\n",
      "________________________________________________\n",
      "[52, 32, 12]\n"
     ]
    }
   ],
   "source": [
    "list_3 = [12,52,32]\n",
    "list_3.sort()  #ascending  format\n",
    "print(list_3)\n",
    "\n",
    "print(\"________________________________________________\")\n",
    "\n",
    "list_3.sort(reverse = True)  #decending order\n",
    "\n",
    "print(list_3)"
   ]
  },
  {
   "cell_type": "code",
   "execution_count": 35,
   "id": "16bea31d-d1d5-49d7-bd73-e2faf833adbb",
   "metadata": {},
   "outputs": [
    {
     "name": "stdout",
     "output_type": "stream",
     "text": [
      "['apple', 'c', 'c++', 'java', 'python']\n"
     ]
    }
   ],
   "source": [
    "list3 = ['c','c++','python', 'java', 'apple']  #sort\n",
    "list3.sort()  #key = None, reverse = False\n",
    "print(list3)"
   ]
  },
  {
   "cell_type": "code",
   "execution_count": 36,
   "id": "2339bb81-9d68-4559-afa5-9364a8ad91e8",
   "metadata": {},
   "outputs": [
    {
     "data": {
      "text/plain": [
       "['apple', 'c', 'c++', 'java', 'python']"
      ]
     },
     "execution_count": 36,
     "metadata": {},
     "output_type": "execute_result"
    }
   ],
   "source": [
    "list3"
   ]
  },
  {
   "cell_type": "code",
   "execution_count": 39,
   "id": "63d62e20-5486-4f8c-9a17-f65e138a9ed0",
   "metadata": {},
   "outputs": [],
   "source": [
    "list3.sort(reverse = True)  #z-a"
   ]
  },
  {
   "cell_type": "code",
   "execution_count": 40,
   "id": "2957522e-27f1-43b7-a703-07b93f9453fa",
   "metadata": {},
   "outputs": [
    {
     "data": {
      "text/plain": [
       "['python', 'java', 'c++', 'c', 'apple']"
      ]
     },
     "execution_count": 40,
     "metadata": {},
     "output_type": "execute_result"
    }
   ],
   "source": [
    "list3"
   ]
  },
  {
   "cell_type": "code",
   "execution_count": 43,
   "id": "40d9f421-277d-48ca-af55-8bed191224e2",
   "metadata": {},
   "outputs": [
    {
     "data": {
      "text/plain": [
       "['c', 'c++', 'java', 'apple', 'python']"
      ]
     },
     "execution_count": 43,
     "metadata": {},
     "output_type": "execute_result"
    }
   ],
   "source": [
    "list3.sort(key = len, reverse = False)\n",
    "list3"
   ]
  },
  {
   "cell_type": "code",
   "execution_count": 44,
   "id": "b095b143-bf5e-4002-a0f6-8b7ea1d11f48",
   "metadata": {},
   "outputs": [
    {
     "data": {
      "text/plain": [
       "6"
      ]
     },
     "execution_count": 44,
     "metadata": {},
     "output_type": "execute_result"
    }
   ],
   "source": [
    "len(\"python\")"
   ]
  },
  {
   "cell_type": "code",
   "execution_count": null,
   "id": "8f275f39-a605-437d-887e-76e14772a552",
   "metadata": {},
   "outputs": [],
   "source": []
  }
 ],
 "metadata": {
  "kernelspec": {
   "display_name": "Python 3 (ipykernel)",
   "language": "python",
   "name": "python3"
  },
  "language_info": {
   "codemirror_mode": {
    "name": "ipython",
    "version": 3
   },
   "file_extension": ".py",
   "mimetype": "text/x-python",
   "name": "python",
   "nbconvert_exporter": "python",
   "pygments_lexer": "ipython3",
   "version": "3.11.7"
  }
 },
 "nbformat": 4,
 "nbformat_minor": 5
}
