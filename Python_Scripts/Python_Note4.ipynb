{
 "cells": [
  {
   "cell_type": "markdown",
   "id": "e117eb4d-4501-45bf-bb65-326b2919ba6a",
   "metadata": {},
   "source": [
    "## Print statement in python"
   ]
  },
  {
   "cell_type": "code",
   "execution_count": 1,
   "id": "ea01623c-1230-4bd7-ba2c-6a2123643084",
   "metadata": {},
   "outputs": [
    {
     "name": "stdout",
     "output_type": "stream",
     "text": [
      "Hello world\n"
     ]
    }
   ],
   "source": [
    "print(\"Hello world\")"
   ]
  },
  {
   "cell_type": "code",
   "execution_count": 2,
   "id": "63a9ba00-f6eb-42e6-b189-978c56ad347d",
   "metadata": {},
   "outputs": [
    {
     "name": "stdout",
     "output_type": "stream",
     "text": [
      "python\n"
     ]
    }
   ],
   "source": [
    "x = \"python\"\n",
    "\n",
    "print(x)"
   ]
  },
  {
   "cell_type": "code",
   "execution_count": 3,
   "id": "38f9eaad-2ff9-4a06-8b1b-96126f53e9fe",
   "metadata": {},
   "outputs": [
    {
     "name": "stdin",
     "output_type": "stream",
     "text": [
      "Enter your name:  python\n"
     ]
    },
    {
     "name": "stdout",
     "output_type": "stream",
     "text": [
      "python\n"
     ]
    },
    {
     "name": "stdin",
     "output_type": "stream",
     "text": [
      "Please enter your age:   25\n"
     ]
    },
    {
     "name": "stdout",
     "output_type": "stream",
     "text": [
      "25\n"
     ]
    }
   ],
   "source": [
    "name = input(\"Enter your name: \")  #str  dtypr\n",
    "print(name)\n",
    "\n",
    "age = int(input(\"Please enter your age:  \"))\n",
    "print(age)"
   ]
  },
  {
   "cell_type": "code",
   "execution_count": 4,
   "id": "428db8d6-9e4a-46b1-bd32-6119aca45483",
   "metadata": {},
   "outputs": [
    {
     "name": "stdout",
     "output_type": "stream",
     "text": [
      "Hello python\n"
     ]
    }
   ],
   "source": [
    "print(\"Hello\",name) #print(x,y)"
   ]
  },
  {
   "cell_type": "code",
   "execution_count": 14,
   "id": "c20df863-615e-44aa-b67c-179d2d5c6224",
   "metadata": {},
   "outputs": [
    {
     "name": "stdout",
     "output_type": "stream",
     "text": [
      "Hello python, the age is 25\n"
     ]
    }
   ],
   "source": [
    "print(\"Hello\"+\" \"+name+\", the age is\"+\" \"+str(age))"
   ]
  },
  {
   "cell_type": "code",
   "execution_count": 15,
   "id": "93069f5f-fdd5-46c6-b628-82716122b96a",
   "metadata": {},
   "outputs": [
    {
     "name": "stdout",
     "output_type": "stream",
     "text": [
      "Hello python, the age is 25\n"
     ]
    }
   ],
   "source": [
    "#format()  #help to assign values automatically #no need to bother about type \n",
    "\n",
    "print(\"Hello {}, the age is {}\".format(name,age))"
   ]
  },
  {
   "cell_type": "code",
   "execution_count": 16,
   "id": "24dcb01a-541f-4cd5-9f22-4e76766e8db2",
   "metadata": {},
   "outputs": [
    {
     "name": "stdout",
     "output_type": "stream",
     "text": [
      "25 is python years old\n"
     ]
    }
   ],
   "source": [
    "\n",
    "print(\"{1} is {0} years old\".format(name, age))"
   ]
  },
  {
   "cell_type": "code",
   "execution_count": 17,
   "id": "3609a633-a402-4df5-8d76-78e445d95551",
   "metadata": {},
   "outputs": [
    {
     "ename": "IndexError",
     "evalue": "Replacement index 2 out of range for positional args tuple",
     "output_type": "error",
     "traceback": [
      "\u001b[1;31m---------------------------------------------------------------------------\u001b[0m",
      "\u001b[1;31mIndexError\u001b[0m                                Traceback (most recent call last)",
      "Cell \u001b[1;32mIn[17], line 1\u001b[0m\n\u001b[1;32m----> 1\u001b[0m \u001b[38;5;28mprint\u001b[39m(\u001b[38;5;124m\"\u001b[39m\u001b[38;5;124mHello \u001b[39m\u001b[38;5;132;01m{}\u001b[39;00m\u001b[38;5;124m, the age is \u001b[39m\u001b[38;5;132;01m{}\u001b[39;00m\u001b[38;5;124m and \u001b[39m\u001b[38;5;132;01m{}\u001b[39;00m\u001b[38;5;124m\"\u001b[39m\u001b[38;5;241m.\u001b[39mformat(name,age))\n",
      "\u001b[1;31mIndexError\u001b[0m: Replacement index 2 out of range for positional args tuple"
     ]
    }
   ],
   "source": [
    "print(\"Hello {}, the age is {} and {}\".format(name,age))"
   ]
  },
  {
   "cell_type": "code",
   "execution_count": 20,
   "id": "6bf8795c-3cad-4641-b7e1-edf0aff7837a",
   "metadata": {},
   "outputs": [
    {
     "name": "stdout",
     "output_type": "stream",
     "text": [
      "Hello python, the age is 25 and 25\n"
     ]
    }
   ],
   "source": [
    "print(\"Hello {0}, the age is {1} and {1}\".format(name,age))"
   ]
  },
  {
   "cell_type": "code",
   "execution_count": 21,
   "id": "804c2024-4670-40a9-8574-704880ed97c3",
   "metadata": {},
   "outputs": [
    {
     "ename": "ValueError",
     "evalue": "cannot switch from manual field specification to automatic field numbering",
     "output_type": "error",
     "traceback": [
      "\u001b[1;31m---------------------------------------------------------------------------\u001b[0m",
      "\u001b[1;31mValueError\u001b[0m                                Traceback (most recent call last)",
      "Cell \u001b[1;32mIn[21], line 1\u001b[0m\n\u001b[1;32m----> 1\u001b[0m \u001b[38;5;28mprint\u001b[39m(\u001b[38;5;124m\"\u001b[39m\u001b[38;5;124mHello \u001b[39m\u001b[38;5;132;01m{0}\u001b[39;00m\u001b[38;5;124m, the age is \u001b[39m\u001b[38;5;132;01m{1}\u001b[39;00m\u001b[38;5;124m and \u001b[39m\u001b[38;5;132;01m{}\u001b[39;00m\u001b[38;5;124m\"\u001b[39m\u001b[38;5;241m.\u001b[39mformat(name,age))\n",
      "\u001b[1;31mValueError\u001b[0m: cannot switch from manual field specification to automatic field numbering"
     ]
    }
   ],
   "source": [
    "print(\"Hello {0}, the age is {1} and {}\".format(name,age))"
   ]
  },
  {
   "cell_type": "code",
   "execution_count": null,
   "id": "c907653f-54cb-4c2c-98ca-7dd2a3f730e1",
   "metadata": {},
   "outputs": [],
   "source": [
    "## standard way of using print statement\n",
    "\n",
    "#format - {}\n",
    "#print(\"{} is {} year old\".format(name,age))\n",
    "\n",
    "#print(\"{0} is {1} year old\".format(name,age))"
   ]
  },
  {
   "cell_type": "code",
   "execution_count": 22,
   "id": "d853443b-d7aa-4a7e-9b69-91ca8e6a5a60",
   "metadata": {},
   "outputs": [
    {
     "name": "stdout",
     "output_type": "stream",
     "text": [
      "this is an example \n",
      " for your understanding\n"
     ]
    }
   ],
   "source": [
    "#\\n - new line\n",
    "\n",
    "str_new = \"this is an example \\n for your understanding\"\n",
    "\n",
    "print(str_new)"
   ]
  },
  {
   "cell_type": "code",
   "execution_count": 24,
   "id": "460f70aa-2d16-49bb-9b20-f1ab4b4b7752",
   "metadata": {},
   "outputs": [
    {
     "name": "stdout",
     "output_type": "stream",
     "text": [
      "this is an example \\n for your understanding\n"
     ]
    }
   ],
   "source": [
    "#raw string - r\"str\"\n",
    "\n",
    "str_new = r\"this is an example \\n for your understanding\"\n",
    "\n",
    "print(str_new)"
   ]
  },
  {
   "cell_type": "markdown",
   "id": "6afa40f1-9fa2-494d-9a1b-dfd9dbeb10a6",
   "metadata": {},
   "source": [
    "## Identity Operators"
   ]
  },
  {
   "cell_type": "code",
   "execution_count": 1,
   "id": "dd0caf46-abd2-4081-abd4-333f159dc79b",
   "metadata": {},
   "outputs": [
    {
     "data": {
      "text/plain": [
       "False"
      ]
     },
     "execution_count": 1,
     "metadata": {},
     "output_type": "execute_result"
    }
   ],
   "source": [
    "\"i\" == \"Hi\"  #comparitive operator  # = assignment"
   ]
  },
  {
   "cell_type": "code",
   "execution_count": 2,
   "id": "c1e707b2-ea0f-4c7f-9d9a-32f2f88b39e0",
   "metadata": {},
   "outputs": [
    {
     "data": {
      "text/plain": [
       "False"
      ]
     },
     "execution_count": 2,
     "metadata": {},
     "output_type": "execute_result"
    }
   ],
   "source": [
    "2 == 1"
   ]
  },
  {
   "cell_type": "code",
   "execution_count": 3,
   "id": "a64aafb0-f341-4aed-b4b5-e1b87ce96ee9",
   "metadata": {},
   "outputs": [
    {
     "data": {
      "text/plain": [
       "False"
      ]
     },
     "execution_count": 3,
     "metadata": {},
     "output_type": "execute_result"
    }
   ],
   "source": [
    "\"Hello\" == \"hello\""
   ]
  },
  {
   "cell_type": "code",
   "execution_count": 4,
   "id": "d74b8ed4-43ce-492f-9d68-ce647c2a95a5",
   "metadata": {},
   "outputs": [
    {
     "data": {
      "text/plain": [
       "True"
      ]
     },
     "execution_count": 4,
     "metadata": {},
     "output_type": "execute_result"
    }
   ],
   "source": [
    "\"hi hello\" != \"hello hi\""
   ]
  },
  {
   "cell_type": "code",
   "execution_count": 6,
   "id": "c14ca77f-ea4f-46b4-b34d-a30764b749ae",
   "metadata": {},
   "outputs": [
    {
     "name": "stdout",
     "output_type": "stream",
     "text": [
      "True\n",
      "True\n"
     ]
    }
   ],
   "source": [
    "#identical operator  ->  is , is not  #output  -bool\n",
    "\n",
    "a = 10\n",
    "b = 10\n",
    "\n",
    "print(a==b)\n",
    "print(a is b) #a is equal to b # a is nothing but to b\n",
    "\n"
   ]
  },
  {
   "cell_type": "code",
   "execution_count": 7,
   "id": "37aaa169-4cf3-4ea3-b86c-22a6e94fe603",
   "metadata": {},
   "outputs": [
    {
     "data": {
      "text/plain": [
       "False"
      ]
     },
     "execution_count": 7,
     "metadata": {},
     "output_type": "execute_result"
    }
   ],
   "source": [
    "a = \"hello\"\n",
    "b = \"hello\"\n",
    "\n",
    "a is not b"
   ]
  },
  {
   "cell_type": "code",
   "execution_count": 10,
   "id": "603850a8-59f9-4ab0-80fe-3147892e7958",
   "metadata": {},
   "outputs": [
    {
     "name": "stdout",
     "output_type": "stream",
     "text": [
      "140731679302408\n",
      "140731679302408\n",
      "output of a is b: True\n",
      "output of a == b: True\n"
     ]
    }
   ],
   "source": [
    "a = 256\n",
    "print(id(a))\n",
    "#print(\"======================\")\n",
    "\n",
    "b = 256\n",
    "print(id(b))\n",
    "\n",
    "print(\"output of a is b:\", a is b)\n",
    "print(\"output of a == b:\", a ==b)\n"
   ]
  },
  {
   "cell_type": "code",
   "execution_count": 12,
   "id": "cae1d2a2-1f9f-4e55-a97a-40ca91a8d41a",
   "metadata": {},
   "outputs": [
    {
     "name": "stdout",
     "output_type": "stream",
     "text": [
      "a id 2702836627888\n",
      "b id 2702836627504\n",
      "output of a is b: False\n",
      "output of a == b True\n"
     ]
    }
   ],
   "source": [
    "# -5 to 256bytes - they'll be stored in same id #python memory location prefixed\n",
    "\n",
    "# > 256 - python creates individual memomry id for the variables. i.e. if any variable is having value\n",
    "#own id\n",
    "\n",
    "a = 257\n",
    "print(\"a id\", id(a))\n",
    "\n",
    "b = 257\n",
    "print(\"b id\", id(b))\n",
    "\n",
    "print(\"output of a is b:\", a is b)  #not only the value, but the id should be the same\n",
    "print(\"output of a == b\", a == b) #verify the only values of two variables "
   ]
  },
  {
   "cell_type": "code",
   "execution_count": 8,
   "id": "ddce2dcb-7cdc-47df-9f7d-d3548d5da23c",
   "metadata": {},
   "outputs": [],
   "source": [
    "#Membership operators # in, not in  #output  - bool\n",
    "\n",
    "list1 = [1,2,3,\"Hi\",\"hello\"]\n",
    "str1 = \"excelr solution\""
   ]
  },
  {
   "cell_type": "code",
   "execution_count": 2,
   "id": "e7a2eac4-ed48-4b53-b86a-4052bde8798a",
   "metadata": {},
   "outputs": [
    {
     "data": {
      "text/plain": [
       "True"
      ]
     },
     "execution_count": 2,
     "metadata": {},
     "output_type": "execute_result"
    }
   ],
   "source": [
    "1 in list1"
   ]
  },
  {
   "cell_type": "code",
   "execution_count": 3,
   "id": "aaef43a5-5164-4329-abf4-0751d0113147",
   "metadata": {},
   "outputs": [
    {
     "data": {
      "text/plain": [
       "False"
      ]
     },
     "execution_count": 3,
     "metadata": {},
     "output_type": "execute_result"
    }
   ],
   "source": [
    "4 in list1"
   ]
  },
  {
   "cell_type": "code",
   "execution_count": 4,
   "id": "dfa482ec-981e-491d-aaab-a5a28b5ed3f1",
   "metadata": {},
   "outputs": [
    {
     "data": {
      "text/plain": [
       "True"
      ]
     },
     "execution_count": 4,
     "metadata": {},
     "output_type": "execute_result"
    }
   ],
   "source": [
    "\"Hi\" in [1,2,3,\"Hi\",\"hello\"]"
   ]
  },
  {
   "cell_type": "code",
   "execution_count": 5,
   "id": "a7b91dae-74d0-458a-a092-1644cad43f36",
   "metadata": {},
   "outputs": [
    {
     "data": {
      "text/plain": [
       "True"
      ]
     },
     "execution_count": 5,
     "metadata": {},
     "output_type": "execute_result"
    }
   ],
   "source": [
    "\"Hello\" not in list1"
   ]
  },
  {
   "cell_type": "code",
   "execution_count": 6,
   "id": "5fb06db2-c73f-4f32-bd38-dc1deb9600e6",
   "metadata": {},
   "outputs": [
    {
     "data": {
      "text/plain": [
       "True"
      ]
     },
     "execution_count": 6,
     "metadata": {},
     "output_type": "execute_result"
    }
   ],
   "source": [
    "\"excelr\" in str1"
   ]
  },
  {
   "cell_type": "code",
   "execution_count": 9,
   "id": "ff71e533-b709-4878-8757-f9108b1f406c",
   "metadata": {},
   "outputs": [],
   "source": [
    "dict1 = {\"Name\":\"python\",\"Course\":\"selenium\"}"
   ]
  },
  {
   "cell_type": "code",
   "execution_count": 10,
   "id": "ea22b2b7-3f78-43c6-a658-24e923ba89fc",
   "metadata": {},
   "outputs": [
    {
     "data": {
      "text/plain": [
       "{'Name': 'python', 'Course': 'selenium'}"
      ]
     },
     "execution_count": 10,
     "metadata": {},
     "output_type": "execute_result"
    }
   ],
   "source": [
    "dict1"
   ]
  },
  {
   "cell_type": "code",
   "execution_count": 11,
   "id": "b44b8dee-3f4c-4b54-835a-a1ee26c1c199",
   "metadata": {},
   "outputs": [
    {
     "data": {
      "text/plain": [
       "dict_keys(['Name', 'Course'])"
      ]
     },
     "execution_count": 11,
     "metadata": {},
     "output_type": "execute_result"
    }
   ],
   "source": [
    "dict1.keys()"
   ]
  },
  {
   "cell_type": "code",
   "execution_count": 12,
   "id": "a4dd801d-50b3-4260-90f8-3823ac97b937",
   "metadata": {},
   "outputs": [
    {
     "data": {
      "text/plain": [
       "dict_values(['python', 'selenium'])"
      ]
     },
     "execution_count": 12,
     "metadata": {},
     "output_type": "execute_result"
    }
   ],
   "source": [
    "dict1.values()"
   ]
  },
  {
   "cell_type": "code",
   "execution_count": 13,
   "id": "70d6a4f8-c0aa-4f77-aba9-9c377c35fa2e",
   "metadata": {},
   "outputs": [
    {
     "data": {
      "text/plain": [
       "True"
      ]
     },
     "execution_count": 13,
     "metadata": {},
     "output_type": "execute_result"
    }
   ],
   "source": [
    "\"Name\" in dict1.keys()"
   ]
  },
  {
   "cell_type": "markdown",
   "id": "e26e0b21-86ff-45e8-9957-80597fbff183",
   "metadata": {},
   "source": [
    "## Conditional statements"
   ]
  },
  {
   "cell_type": "code",
   "execution_count": 23,
   "id": "862414ec-e398-46b2-a826-47235a2b2e5f",
   "metadata": {},
   "outputs": [
    {
     "ename": "IndentationError",
     "evalue": "expected an indented block after 'if' statement on line 7 (2781922897.py, line 8)",
     "output_type": "error",
     "traceback": [
      "\u001b[1;36m  Cell \u001b[1;32mIn[23], line 8\u001b[1;36m\u001b[0m\n\u001b[1;33m    print(\"{} is positive number\".format(num)) #IndentationError\u001b[0m\n\u001b[1;37m    ^\u001b[0m\n\u001b[1;31mIndentationError\u001b[0m\u001b[1;31m:\u001b[0m expected an indented block after 'if' statement on line 7\n"
     ]
    }
   ],
   "source": [
    "#if condition\n",
    "\n",
    "#condition - check whether num is positive -> num>0\n",
    "\n",
    "num = 5\n",
    "\n",
    "if num>0:\n",
    "print(\"{} is positive number\".format(num)) #IndentationError\n",
    "\n"
   ]
  },
  {
   "cell_type": "code",
   "execution_count": 22,
   "id": "954a7235-20e2-410c-a60f-15553187b648",
   "metadata": {},
   "outputs": [
    {
     "name": "stdout",
     "output_type": "stream",
     "text": [
      "negative\n"
     ]
    }
   ],
   "source": [
    "#if else condition\n",
    "\n",
    "#condition-1: check num is positive\n",
    "# condition-else -> print negative\n",
    "\n",
    "num = -4\n",
    "\n",
    "if num>0:\n",
    "    print(\"positive\")\n",
    "    print(\"this is 2nd line of if\")\n",
    "else:\n",
    "    print(\"negative\")"
   ]
  },
  {
   "cell_type": "code",
   "execution_count": 2,
   "id": "0a3ffc09-b5a9-458c-89fb-c348bc7d705f",
   "metadata": {},
   "outputs": [
    {
     "data": {
      "text/plain": [
       "True"
      ]
     },
     "execution_count": 2,
     "metadata": {},
     "output_type": "execute_result"
    }
   ],
   "source": [
    "# logical operators - and,or\n",
    "\n",
    "num = 14\n",
    "\n",
    "num>10 and num>4"
   ]
  },
  {
   "cell_type": "code",
   "execution_count": 6,
   "id": "c904dbc5-452c-404e-8b36-d2bd64fb4cf6",
   "metadata": {},
   "outputs": [
    {
     "data": {
      "text/plain": [
       "True"
      ]
     },
     "execution_count": 6,
     "metadata": {},
     "output_type": "execute_result"
    }
   ],
   "source": [
    "num = 4\n",
    "\n",
    "num>10 or num>3"
   ]
  },
  {
   "cell_type": "code",
   "execution_count": 8,
   "id": "053384e2-b23a-42da-a2e4-d6d2b2f44766",
   "metadata": {},
   "outputs": [
    {
     "name": "stdout",
     "output_type": "stream",
     "text": [
      "20 is the biggest\n"
     ]
    }
   ],
   "source": [
    "#if elif else condition  #>2 conditions\n",
    "\n",
    "#checking the maximum value in 3 number\n",
    "\n",
    "num1 = 10\n",
    "num2 = 15\n",
    "num3 = 20\n",
    "num4 = 25\n",
    "#condition -1 -> num1 with num2 & num3 -> num1>num2 and num1>num3\n",
    "#condition -2 -> num2 with num1 & num3 -> num2>num1 and num2>num3\n",
    "#else condition  -> num3 is biggest\n",
    "\n",
    "\n",
    "if num1>num2 and num1>num3:\n",
    "    print (\"num1 is the biggest\")\n",
    "elif num2>num1 and num2>num3:\n",
    "    print(\"{} is the biggest\".format(num2))\n",
    "else:\n",
    "    print(num3,\"is the biggest\")"
   ]
  },
  {
   "cell_type": "code",
   "execution_count": 16,
   "id": "a1b3ab6e-1d0f-4dbd-a9cd-1e2e40f10c65",
   "metadata": {},
   "outputs": [
    {
     "name": "stdout",
     "output_type": "stream",
     "text": [
      "2 is positive\n"
     ]
    }
   ],
   "source": [
    "#if condition #single condition\n",
    "\n",
    "num = 2\n",
    "\n",
    "if num> 0:\n",
    "    print(\"{} is positive\".format(num))"
   ]
  },
  {
   "cell_type": "code",
   "execution_count": 12,
   "id": "c0dcbc0d-5e07-4c24-935c-30a09ca9e490",
   "metadata": {},
   "outputs": [
    {
     "name": "stdin",
     "output_type": "stream",
     "text": [
      "please enter some number:  0\n"
     ]
    },
    {
     "name": "stdout",
     "output_type": "stream",
     "text": [
      "zero\n"
     ]
    }
   ],
   "source": [
    " #nested if condition\n",
    "\n",
    "#an if condition within a if condition\n",
    "\n",
    "num = int(input(\"please enter some number: \")) #0\n",
    "\n",
    "if num>=0:  #here,num can be > 0 (or) num ==0\n",
    "    if num==0:\n",
    "        print(\"zero\")\n",
    "    else:\n",
    "        print(\"positive\")\n",
    "else:\n",
    "    print(\"negative\")"
   ]
  },
  {
   "cell_type": "markdown",
   "id": "233d679c-cad3-450c-b649-3fb0bc895269",
   "metadata": {},
   "source": [
    "## For loop"
   ]
  },
  {
   "cell_type": "code",
   "execution_count": 6,
   "id": "c6498078-2707-4965-81f5-c67a46c68cfc",
   "metadata": {},
   "outputs": [
    {
     "name": "stdout",
     "output_type": "stream",
     "text": [
      "pizza\n",
      "burger\n",
      "apple\n"
     ]
    }
   ],
   "source": [
    "#forloop -> looping or iterations (no condition req)\n",
    "#forloop will run until the last element or last row or the last item\n",
    "\n",
    "\n",
    "snacks = ['pizza', 'burger','apple']\n",
    "\n",
    "# print(\"pizza\")\n",
    "# print(\"burger\")\n",
    "# print(\"apple\")\n",
    "\n",
    "#structure - print()\n",
    "\n",
    "#1st loop -> x = \"pizza\"\n",
    "#2nd loop -> x = \"burger\"\n",
    "#3rd loop -> x = \"apple\"\n",
    "# loops terminates\n",
    "\n",
    "for x in snacks:\n",
    "    print(x)\n"
   ]
  },
  {
   "cell_type": "code",
   "execution_count": 8,
   "id": "16c530c3-b92b-4ed0-be1c-c54f0a30b8f6",
   "metadata": {},
   "outputs": [
    {
     "name": "stdout",
     "output_type": "stream",
     "text": [
      "p\n",
      "y\n",
      "t\n",
      "h\n",
      "o\n",
      "n\n"
     ]
    }
   ],
   "source": [
    "for x in \"python\":\n",
    "    print(x)"
   ]
  },
  {
   "cell_type": "code",
   "execution_count": 12,
   "id": "933f8e36-a83b-4247-a051-f3505989103d",
   "metadata": {},
   "outputs": [
    {
     "data": {
      "text/plain": [
       "[0, 2, 4, 6, 8]"
      ]
     },
     "execution_count": 12,
     "metadata": {},
     "output_type": "execute_result"
    }
   ],
   "source": [
    "#range() -> generate a range of number -> range(lowerlimit, upperlimit(n-1))\n",
    "\n",
    "list(range(0,10,2)) #gives range object by default"
   ]
  },
  {
   "cell_type": "code",
   "execution_count": 16,
   "id": "abadf55e-7f60-4fd3-b12d-c9c39047b692",
   "metadata": {},
   "outputs": [
    {
     "name": "stdout",
     "output_type": "stream",
     "text": [
      "pizza\n",
      "burger\n",
      "apple\n"
     ]
    }
   ],
   "source": [
    "snacks = ['pizza', 'burger','apple']\n",
    "\n",
    "# print(snacks[0])\n",
    "# print(snacks[1])\n",
    "# print(snacks[2])\n",
    "\n",
    "#structure -> print(snacks[x])\n",
    "\n",
    "# 1st loop -> x = 0\n",
    "# 2nd loop -> x = 1\n",
    "# 3rd loop -> x = 2\n",
    "# loops terminates\n",
    "\n",
    "for x in range(0,3): #0,1,2 \n",
    "    print(snacks[x])\n"
   ]
  },
  {
   "cell_type": "code",
   "execution_count": 17,
   "id": "1f8d06ec-1cef-4991-a4da-79d8267a907e",
   "metadata": {},
   "outputs": [
    {
     "data": {
      "text/plain": [
       "3"
      ]
     },
     "execution_count": 17,
     "metadata": {},
     "output_type": "execute_result"
    }
   ],
   "source": [
    "len(snacks)"
   ]
  },
  {
   "cell_type": "code",
   "execution_count": 19,
   "id": "8a08b8e5-a66f-43fb-997d-e32710179acb",
   "metadata": {},
   "outputs": [
    {
     "name": "stdout",
     "output_type": "stream",
     "text": [
      "pizza\n",
      "burger\n",
      "apple\n"
     ]
    }
   ],
   "source": [
    "snacks = ['pizza', 'burger','apple']\n",
    "\n",
    "for x in range(0,len(snacks)): #range(0,3) -> #0,1,2 \n",
    "    print(snacks[x])\n"
   ]
  },
  {
   "cell_type": "code",
   "execution_count": 7,
   "id": "a0077a85-bae8-4ee7-8a9e-d9cfedfcb860",
   "metadata": {},
   "outputs": [
    {
     "name": "stdout",
     "output_type": "stream",
     "text": [
      "pizza\n",
      "burger\n",
      "apple\n"
     ]
    }
   ],
   "source": [
    "snacks = ['pizza', 'burger','apple']\n",
    "\n",
    "for x in snacks:\n",
    "    print(x)\n",
    "    "
   ]
  },
  {
   "cell_type": "code",
   "execution_count": null,
   "id": "0172cad1-d13a-46d6-a810-3db216503fad",
   "metadata": {},
   "outputs": [],
   "source": [
    "#range fn\n",
    "\n",
    "for x in snacks:\n",
    "    print(x)"
   ]
  },
  {
   "cell_type": "code",
   "execution_count": 22,
   "id": "51f489d3-f38f-47d3-81fc-b028e1a11a82",
   "metadata": {},
   "outputs": [
    {
     "name": "stdout",
     "output_type": "stream",
     "text": [
      "15\n",
      "16\n",
      "17\n",
      "18\n",
      "19\n"
     ]
    }
   ],
   "source": [
    "#range fn\n",
    "\n",
    "for x in range(15,20): #15,16,17,18,19\n",
    "    print(x)\n"
   ]
  },
  {
   "cell_type": "code",
   "execution_count": 21,
   "id": "3ce547a0-41a4-4e8c-9769-130e5c44d8a2",
   "metadata": {},
   "outputs": [
    {
     "name": "stdout",
     "output_type": "stream",
     "text": [
      "pizza\n",
      "burger\n",
      "apple\n"
     ]
    }
   ],
   "source": [
    "snacks = ['pizza', 'burger','apple']\n",
    "\n",
    "#print(snacks[x])\n",
    "\n",
    "for x in range(0,len(snacks)): #range(0,3) -> #0,1,2 \n",
    "    print(snacks[x])"
   ]
  },
  {
   "cell_type": "code",
   "execution_count": 28,
   "id": "3e6dfd17-5a56-4860-9542-ef30ceacbad5",
   "metadata": {},
   "outputs": [
    {
     "name": "stdout",
     "output_type": "stream",
     "text": [
      "10\n"
     ]
    }
   ],
   "source": [
    "#finding even and odd numbers\n",
    "\n",
    "# num%2 == 0 -> even\n",
    "\n",
    "num = 10 \n",
    "\n",
    "if num%2==0:\n",
    "    print(\"{}\".format(num ))\n",
    "else:\n",
    "    print(\"odd\", num)"
   ]
  },
  {
   "cell_type": "code",
   "execution_count": 30,
   "id": "24077548-abac-4668-afc7-e531d175d68b",
   "metadata": {},
   "outputs": [
    {
     "name": "stdout",
     "output_type": "stream",
     "text": [
      "0  is even\n",
      "1  is odd\n",
      "2  is even\n",
      "3  is odd\n",
      "4  is even\n",
      "5  is odd\n",
      "6  is even\n",
      "7  is odd\n",
      "8  is even\n",
      "9  is odd\n",
      "10  is even\n"
     ]
    }
   ],
   "source": [
    "#find even and odd number of 0 to 10\n",
    "\n",
    "for x in range(0,11):\n",
    "    if x%2 ==0:\n",
    "        print(x,\" is even\")\n",
    "    else:\n",
    "        print(x,\" is odd\")\n",
    "        "
   ]
  },
  {
   "cell_type": "code",
   "execution_count": 24,
   "id": "2d5152af-18b7-40ed-a8e9-689470cb327d",
   "metadata": {},
   "outputs": [
    {
     "name": "stdout",
     "output_type": "stream",
     "text": [
      "current snack:  pizza\n",
      "Good day!\n",
      "current snack:  burger\n",
      "Good day!\n",
      "current snack:  apple\n",
      "Good day!\n"
     ]
    }
   ],
   "source": [
    "#for loop\n",
    "#for each item in sequence , last item reached , no - body of loop , yes , exit loop\n",
    "\n",
    "#Ex : 1\n",
    "\n",
    "snacks = ['pizza', 'burger','apple']\n",
    "\n",
    "for x in snacks:\n",
    "    print(\"current snack: \", x)\n",
    "    print(\"Good day!\")\n"
   ]
  },
  {
   "cell_type": "code",
   "execution_count": 35,
   "id": "b51d7333-164b-4131-89d6-ee54361815e0",
   "metadata": {},
   "outputs": [
    {
     "name": "stdout",
     "output_type": "stream",
     "text": [
      "google .org\n",
      "google .com\n",
      "google .in\n",
      "yahoo .org\n",
      "yahoo .com\n",
      "yahoo .in\n",
      "facebook .org\n",
      "facebook .com\n",
      "facebook .in\n"
     ]
    }
   ],
   "source": [
    "#nested forloop\n",
    "\n",
    "# a forloop within a forloop\n",
    "\n",
    "list1 = [\"google\",\"yahoo\",\"facebook\"]\n",
    "list2 = [\".org\",\".com\",\".in\"]\n",
    "\n",
    "for x in list1:  #main loop #3 times\n",
    "    for y in list2: #subloop #3 times  i.e #9 times\n",
    "        print(x,y)\n",
    "        \n",
    "\n",
    "#cartesian product"
   ]
  },
  {
   "cell_type": "code",
   "execution_count": 31,
   "id": "61c8b817-7d96-49c4-b959-ee2dfe7ce73b",
   "metadata": {},
   "outputs": [
    {
     "name": "stdout",
     "output_type": "stream",
     "text": [
      "google.org\n",
      "google.com\n",
      "google.in\n",
      "yahoo.org\n",
      "yahoo.com\n",
      "yahoo.in\n",
      "facebook.org\n",
      "facebook.com\n",
      "facebook.in\n"
     ]
    }
   ],
   "source": [
    "#combinations\n",
    "\n",
    "list1 = [\"google\",\"yahoo\",\"facebook\"]\n",
    "list2 = [\".org\",\".com\",\".in\"]\n",
    "\n",
    "for x in list1:\n",
    "    for y in list2:\n",
    "        print(x + y)"
   ]
  },
  {
   "cell_type": "code",
   "execution_count": 40,
   "id": "40755f1a-bce3-4172-ab8b-63732adb33f6",
   "metadata": {},
   "outputs": [
    {
     "name": "stdout",
     "output_type": "stream",
     "text": [
      "0 0\n",
      "google.org\n",
      "0 1\n",
      "google.com\n",
      "0 2\n",
      "google.in\n",
      "1 0\n",
      "yahoo.org\n",
      "1 1\n",
      "yahoo.com\n",
      "1 2\n",
      "yahoo.in\n",
      "2 0\n",
      "facebook.org\n",
      "2 1\n",
      "facebook.com\n",
      "2 2\n",
      "facebook.in\n"
     ]
    }
   ],
   "source": [
    "#Nested for Loop\n",
    "\n",
    "#combination of number\n",
    "\n",
    "list1 = [\"google\",\"yahoo\",\"facebook\"]\n",
    "list2 = [\".org\",\".com\",\".in\"]\n",
    "\n",
    "for i in range(0,len(list1)): #range(0,3)\n",
    "    for j in range(0,3): #range(0,3)\n",
    "        print(i,j) \n",
    "        print(list1[i]+list2[j])\n"
   ]
  },
  {
   "cell_type": "code",
   "execution_count": 33,
   "id": "b2f97d5b-3825-438a-af43-d44ba68dc7c7",
   "metadata": {},
   "outputs": [
    {
     "name": "stdout",
     "output_type": "stream",
     "text": [
      "0\n",
      "1\n",
      "5\n",
      "No items left.\n"
     ]
    }
   ],
   "source": [
    "# for loop with else:\n",
    "\n",
    "digits = [0 , 1, 5]\n",
    "\n",
    "for i in digits:\n",
    "    print(i)\n",
    "else:\n",
    "    print(\"No items left.\")"
   ]
  },
  {
   "cell_type": "markdown",
   "id": "39f2bde8-f318-49b4-b91f-2631f5b681ee",
   "metadata": {},
   "source": [
    "## While loop"
   ]
  },
  {
   "cell_type": "code",
   "execution_count": 43,
   "id": "3508e4bd-8466-4bdf-aa22-12e7b9a92019",
   "metadata": {},
   "outputs": [],
   "source": [
    "#while condition is true, then run the functions\n",
    "#if condition is false -> then terminate the loop\n",
    "\n",
    "num = 10\n",
    "\n",
    "while num<11:\n",
    "    print(\"hello\")\n",
    "\n",
    "# infinite loop"
   ]
  },
  {
   "cell_type": "code",
   "execution_count": 62,
   "id": "c0393873-a3a0-4fa0-8721-f468eba9015d",
   "metadata": {},
   "outputs": [
    {
     "name": "stdout",
     "output_type": "stream",
     "text": [
      "5\n",
      "6\n",
      "7\n",
      "8\n",
      "9\n",
      "10\n",
      "sum is  45\n"
     ]
    }
   ],
   "source": [
    "#counter method  #need to print the values from 5 to 10\n",
    "\n",
    "num = 5\n",
    "sum = 0\n",
    "while num<=10:\n",
    "    print(num)\n",
    "    sum = sum + num   #45 as result\n",
    "    num = num + 1     #num+=1 #counter #ideally, keep the counter step in the last\n",
    "    # sum = sum + num    #51 as result\n",
    "print(\"sum is \", sum)"
   ]
  },
  {
   "cell_type": "code",
   "execution_count": 66,
   "id": "6c69103f-58f5-4b64-af85-8edd969af743",
   "metadata": {},
   "outputs": [
    {
     "name": "stdout",
     "output_type": "stream",
     "text": [
      "0\n",
      "1\n",
      "2\n",
      "3\n",
      "4\n",
      "5\n",
      "6\n",
      "7\n",
      "8\n",
      "9\n",
      "10\n"
     ]
    }
   ],
   "source": [
    "#counter\n",
    "\n",
    "i = 0\n",
    "\n",
    "n = 10 # this will decide the number of loops or iterations\n",
    "\n",
    "while i <= n: #condition\n",
    "    print(i)\n",
    "#add counter to run the loop\n",
    "    i = i + 1"
   ]
  },
  {
   "cell_type": "code",
   "execution_count": 67,
   "id": "977a14c5-c634-4edb-85ef-a7f05e2e09bb",
   "metadata": {},
   "outputs": [
    {
     "name": "stdout",
     "output_type": "stream",
     "text": [
      "Inside loop\n",
      "Inside loop\n",
      "Inside loop\n",
      "Inside else\n"
     ]
    }
   ],
   "source": [
    "# while loop with else\n",
    "# Example to illustrate\n",
    "# the use of else statement\n",
    "# with the while loop\n",
    "\n",
    "counter = 0\n",
    "\n",
    "while counter < 3:\n",
    "    print(\"Inside loop\")\n",
    "    counter = counter + 1\n",
    "else:\n",
    "    print(\"Inside else\")\n",
    "    "
   ]
  },
  {
   "cell_type": "code",
   "execution_count": 2,
   "id": "a8a83353-1178-4803-9b51-28da65f59199",
   "metadata": {},
   "outputs": [
    {
     "data": {
      "text/plain": [
       "[1, 2, 3, 4, 5]"
      ]
     },
     "execution_count": 2,
     "metadata": {},
     "output_type": "execute_result"
    }
   ],
   "source": [
    "list(range(1,5+1))"
   ]
  },
  {
   "cell_type": "code",
   "execution_count": 12,
   "id": "6c04d0b2-ffa8-4bf2-8fa6-a2fd67ac7cf0",
   "metadata": {},
   "outputs": [
    {
     "name": "stdin",
     "output_type": "stream",
     "text": [
      "please enter some int 5\n"
     ]
    },
    {
     "name": "stdout",
     "output_type": "stream",
     "text": [
      "120\n"
     ]
    }
   ],
   "source": [
    "#finding the factorial of a given number\n",
    "\n",
    "#-ve - no factorial\n",
    "#0! = 1 and 1! = 1\n",
    "#5! = 5*4*3*2*1 = 120  or 1*2*3*4*5 = 120\n",
    "\n",
    "num = int(input(\"please enter some int\")) #5\n",
    "val = 1\n",
    "\n",
    "if num < 0:\n",
    "    print(\"no factorial for -ve values\")\n",
    "elif num == 1 or num == 0:\n",
    "    print(\"1 is the factorial of {}\".format(num))\n",
    "else:\n",
    "    for x in range(1,num+1): #1,2,3,4,5\n",
    "        val = val*x\n",
    "print(val)\n"
   ]
  },
  {
   "cell_type": "code",
   "execution_count": 14,
   "id": "22465fb6-18d4-46f4-b046-45146524a92c",
   "metadata": {},
   "outputs": [
    {
     "name": "stdin",
     "output_type": "stream",
     "text": [
      "number:  5\n"
     ]
    },
    {
     "name": "stdout",
     "output_type": "stream",
     "text": [
      "factorial =  120\n"
     ]
    }
   ],
   "source": [
    "#Ex:2\n",
    "\n",
    "#finding the factorial of a value\n",
    "\n",
    "factorial = 1\n",
    "num = int(input(\"number: \"))\n",
    "\n",
    "if num < 0:\n",
    "    print(\"please enter some int > 0\")\n",
    "\n",
    "elif num == 0:\n",
    "    print(\"factorial = 1\")\n",
    "else:\n",
    "    for i in range(1, num + 1 ):\n",
    "        factorial = factorial * i\n",
    "print(\"factorial = \", factorial)\n"
   ]
  },
  {
   "cell_type": "markdown",
   "id": "a2d02ece-5c39-4d37-9d49-2416fba3929b",
   "metadata": {},
   "source": [
    "## Functions"
   ]
  },
  {
   "cell_type": "code",
   "execution_count": 23,
   "id": "8786443a-9eda-4f89-8d46-21fe0f764f80",
   "metadata": {},
   "outputs": [],
   "source": [
    "def say_hello():\n",
    "    print(\"Hello\")"
   ]
  },
  {
   "cell_type": "code",
   "execution_count": 24,
   "id": "f55a68fc-747a-47c1-a463-c05ca7841aba",
   "metadata": {},
   "outputs": [
    {
     "name": "stdout",
     "output_type": "stream",
     "text": [
      "Hello\n"
     ]
    }
   ],
   "source": [
    "say_hello()"
   ]
  },
  {
   "cell_type": "code",
   "execution_count": 25,
   "id": "8065c032-bf8f-4920-9342-0786e4b371d1",
   "metadata": {},
   "outputs": [
    {
     "ename": "TypeError",
     "evalue": "say_hello() takes 0 positional arguments but 1 was given",
     "output_type": "error",
     "traceback": [
      "\u001b[1;31m---------------------------------------------------------------------------\u001b[0m",
      "\u001b[1;31mTypeError\u001b[0m                                 Traceback (most recent call last)",
      "Cell \u001b[1;32mIn[25], line 1\u001b[0m\n\u001b[1;32m----> 1\u001b[0m say_hello(\u001b[38;5;124m\"\u001b[39m\u001b[38;5;124mpython\u001b[39m\u001b[38;5;124m\"\u001b[39m)\n",
      "\u001b[1;31mTypeError\u001b[0m: say_hello() takes 0 positional arguments but 1 was given"
     ]
    }
   ],
   "source": [
    "say_hello(\"python\")"
   ]
  },
  {
   "cell_type": "code",
   "execution_count": 26,
   "id": "e221a38e-e58c-45a8-b363-63c5f41f6370",
   "metadata": {},
   "outputs": [],
   "source": [
    "def say_hello2(name): #here, name is required argument\n",
    "    print(\"Hello\", name)"
   ]
  },
  {
   "cell_type": "code",
   "execution_count": 27,
   "id": "67e0f94f-2030-4110-98e5-39fb9730038c",
   "metadata": {},
   "outputs": [
    {
     "name": "stdout",
     "output_type": "stream",
     "text": [
      "Hello python\n"
     ]
    }
   ],
   "source": [
    "say_hello2(\"python\")"
   ]
  },
  {
   "cell_type": "code",
   "execution_count": 32,
   "id": "7e64d84c-7248-48bb-9a07-84bebc302d96",
   "metadata": {},
   "outputs": [],
   "source": [
    "def say_hello3(name, age = 25): #here, name is mandatory arg, age is default\n",
    "    print(\"Hello {}, the age is {}\".format(name, age))\n",
    "    \n",
    "    "
   ]
  },
  {
   "cell_type": "code",
   "execution_count": 38,
   "id": "5651e34e-ec5c-4c2f-a23e-a4ace4d9a71b",
   "metadata": {},
   "outputs": [
    {
     "name": "stdout",
     "output_type": "stream",
     "text": [
      "Hello python, the age is 25\n",
      "Hello python, the age is 40\n",
      "Hello python, the age is 40\n",
      "Hello 40, the age is python\n"
     ]
    }
   ],
   "source": [
    "say_hello3(\"python\")\n",
    "say_hello3(\"python\",40)\n",
    "say_hello3(name = \"python\",age = 40)\n",
    "say_hello3(40,\"python\") #it follow positional indexing"
   ]
  },
  {
   "cell_type": "code",
   "execution_count": 52,
   "id": "cb68633d-8afd-4722-8c82-3ec730682716",
   "metadata": {},
   "outputs": [],
   "source": [
    "#finding the cube \n",
    "\n",
    "# num**3\n",
    "\n",
    "def cub(num):\n",
    "    val = num**3\n",
    "    return val # print(val) #return val, val1 -> we can return multiple value"
   ]
  },
  {
   "cell_type": "code",
   "execution_count": 53,
   "id": "6850e142-bcac-4e72-8a6a-5bf59263a005",
   "metadata": {},
   "outputs": [
    {
     "data": {
      "text/plain": [
       "27"
      ]
     },
     "execution_count": 53,
     "metadata": {},
     "output_type": "execute_result"
    }
   ],
   "source": [
    "cub(3)"
   ]
  },
  {
   "cell_type": "code",
   "execution_count": 50,
   "id": "bf2c97a8-3e67-4758-9858-1e022ae5c942",
   "metadata": {},
   "outputs": [],
   "source": [
    "def cube_new(num):\n",
    "    return num**3"
   ]
  },
  {
   "cell_type": "code",
   "execution_count": 51,
   "id": "6514ff38-14a1-411b-bc53-33aa119f2e47",
   "metadata": {},
   "outputs": [
    {
     "data": {
      "text/plain": [
       "27"
      ]
     },
     "execution_count": 51,
     "metadata": {},
     "output_type": "execute_result"
    }
   ],
   "source": [
    "cube_new(3)"
   ]
  },
  {
   "cell_type": "code",
   "execution_count": 54,
   "id": "3c26db4b-b44d-4e3b-9c47-0e4e37798448",
   "metadata": {},
   "outputs": [],
   "source": [
    "def cube_inp():\n",
    "    num = int(input(\"please enter some value\"))\n",
    "    return num**3"
   ]
  },
  {
   "cell_type": "code",
   "execution_count": 55,
   "id": "920c01b1-c13d-4467-863f-4318477f7a36",
   "metadata": {},
   "outputs": [
    {
     "name": "stdin",
     "output_type": "stream",
     "text": [
      "please enter some value 3\n"
     ]
    },
    {
     "data": {
      "text/plain": [
       "27"
      ]
     },
     "execution_count": 55,
     "metadata": {},
     "output_type": "execute_result"
    }
   ],
   "source": [
    "cube_inp()"
   ]
  },
  {
   "cell_type": "code",
   "execution_count": 39,
   "id": "c42269d0-0a00-43e1-b0d7-35762ebf9a98",
   "metadata": {},
   "outputs": [],
   "source": [
    "#defined -defining to python the function\n",
    "\n",
    "def myfunc():\n",
    "    print('Hello')"
   ]
  },
  {
   "cell_type": "code",
   "execution_count": 40,
   "id": "9e5ba00a-47fa-41eb-aa4a-e9308b87645a",
   "metadata": {},
   "outputs": [
    {
     "name": "stdout",
     "output_type": "stream",
     "text": [
      "Hello\n"
     ]
    }
   ],
   "source": [
    "myfunc()"
   ]
  },
  {
   "cell_type": "code",
   "execution_count": 41,
   "id": "30b72c6a-da8b-450b-9106-c5a8de092e87",
   "metadata": {},
   "outputs": [],
   "source": [
    "def myfunc (Name, age = 10):\n",
    "    print(\"Hello\"+\" \"+ str(Name)+\" \"+\"age is \" + str(age) )"
   ]
  },
  {
   "cell_type": "code",
   "execution_count": 43,
   "id": "bf7c9d6e-ce43-4515-a406-78bccf7b0531",
   "metadata": {},
   "outputs": [
    {
     "name": "stdout",
     "output_type": "stream",
     "text": [
      "Hello Shubham age is10\n"
     ]
    }
   ],
   "source": [
    " myfunc (\"Shubham\")"
   ]
  },
  {
   "cell_type": "code",
   "execution_count": 44,
   "id": "5632e3c7-5093-4237-babb-7e7ac879077f",
   "metadata": {},
   "outputs": [],
   "source": [
    "def squares(x):\n",
    "    val = x**2\n",
    "    return val"
   ]
  },
  {
   "cell_type": "code",
   "execution_count": 45,
   "id": "ac4b1be4-79f3-458d-82ab-b3527896a411",
   "metadata": {},
   "outputs": [
    {
     "data": {
      "text/plain": [
       "100"
      ]
     },
     "execution_count": 45,
     "metadata": {},
     "output_type": "execute_result"
    }
   ],
   "source": [
    "squares(10)"
   ]
  },
  {
   "cell_type": "markdown",
   "id": "6e52de6c-cc55-4916-8bb8-8f29714d9ba1",
   "metadata": {},
   "source": [
    "## Lambda function"
   ]
  },
  {
   "cell_type": "code",
   "execution_count": null,
   "id": "0581c5cf-75f5-4c8a-9399-a57f782fc0e8",
   "metadata": {},
   "outputs": [],
   "source": [
    "#syntax -> lambda argumnets : expression\n",
    "\n"
   ]
  },
  {
   "cell_type": "code",
   "execution_count": 1,
   "id": "664dfcb5-ec68-4fae-a59f-06068f0f918b",
   "metadata": {},
   "outputs": [],
   "source": [
    "fn = lambda x : x**2 #squares"
   ]
  },
  {
   "cell_type": "code",
   "execution_count": 3,
   "id": "9470e084-8ba7-4d13-bafb-3d7293ed3dc3",
   "metadata": {},
   "outputs": [
    {
     "data": {
      "text/plain": [
       "16"
      ]
     },
     "execution_count": 3,
     "metadata": {},
     "output_type": "execute_result"
    }
   ],
   "source": [
    "fn(4)"
   ]
  },
  {
   "cell_type": "code",
   "execution_count": 2,
   "id": "b768792d-21f5-429d-afd1-fbd4dba4c108",
   "metadata": {},
   "outputs": [
    {
     "data": {
      "text/plain": [
       "function"
      ]
     },
     "execution_count": 2,
     "metadata": {},
     "output_type": "execute_result"
    }
   ],
   "source": [
    "type(fn)"
   ]
  },
  {
   "cell_type": "code",
   "execution_count": 4,
   "id": "dd1b80ae-292e-4411-8642-35c146fc76eb",
   "metadata": {},
   "outputs": [
    {
     "data": {
      "text/plain": [
       "['c++', 'c', 'python', 'java', 'mysql123']"
      ]
     },
     "execution_count": 4,
     "metadata": {},
     "output_type": "execute_result"
    }
   ],
   "source": [
    "lst = ['c++', 'c','python','java','mysql123']\n",
    "lst"
   ]
  },
  {
   "cell_type": "code",
   "execution_count": 5,
   "id": "72e8016b-6958-4dff-8cda-ff0840d0b394",
   "metadata": {},
   "outputs": [],
   "source": [
    "lst.sort(key = lambda x : len(x))   #list.sort(key = len,reverse = False)"
   ]
  },
  {
   "cell_type": "code",
   "execution_count": 6,
   "id": "99051a94-e14e-4b3f-8061-8eaea01e6a95",
   "metadata": {},
   "outputs": [
    {
     "data": {
      "text/plain": [
       "['c', 'c++', 'java', 'python', 'mysql123']"
      ]
     },
     "execution_count": 6,
     "metadata": {},
     "output_type": "execute_result"
    }
   ],
   "source": [
    "lst"
   ]
  },
  {
   "cell_type": "code",
   "execution_count": 8,
   "id": "7fd92f06-3273-45f4-ba06-6f7d59308ecd",
   "metadata": {},
   "outputs": [
    {
     "name": "stdout",
     "output_type": "stream",
     "text": [
      "13\n"
     ]
    }
   ],
   "source": [
    "x = lambda a,b,c : a + b + c\n",
    "\n",
    "print(x(5,6,2))"
   ]
  },
  {
   "cell_type": "code",
   "execution_count": 1,
   "id": "7072d470-8d23-4b25-8cae-eb85301f5cf2",
   "metadata": {},
   "outputs": [
    {
     "name": "stdout",
     "output_type": "stream",
     "text": [
      "Help on class map in module builtins:\n",
      "\n",
      "class map(object)\n",
      " |  map(func, *iterables) --> map object\n",
      " |  \n",
      " |  Make an iterator that computes the function using arguments from\n",
      " |  each of the iterables.  Stops when the shortest iterable is exhausted.\n",
      " |  \n",
      " |  Methods defined here:\n",
      " |  \n",
      " |  __getattribute__(self, name, /)\n",
      " |      Return getattr(self, name).\n",
      " |  \n",
      " |  __iter__(self, /)\n",
      " |      Implement iter(self).\n",
      " |  \n",
      " |  __next__(self, /)\n",
      " |      Implement next(self).\n",
      " |  \n",
      " |  __reduce__(...)\n",
      " |      Return state information for pickling.\n",
      " |  \n",
      " |  ----------------------------------------------------------------------\n",
      " |  Static methods defined here:\n",
      " |  \n",
      " |  __new__(*args, **kwargs) from builtins.type\n",
      " |      Create and return a new object.  See help(type) for accurate signature.\n",
      "\n"
     ]
    }
   ],
   "source": [
    "help(map)"
   ]
  },
  {
   "cell_type": "code",
   "execution_count": 5,
   "id": "d1c17a89-cb81-44b4-b936-d7ec3140fe83",
   "metadata": {},
   "outputs": [
    {
     "name": "stdout",
     "output_type": "stream",
     "text": [
      "[8, 10, 25, 100, 57, 65, 80, 26, 76, 64]\n"
     ]
    }
   ],
   "source": [
    "# map() & Filter() -> useful for both lambda & defined functions\n",
    "\n",
    "#map(func, *iterables)\n",
    "\n",
    "tup = (5,7,22,97,54,62,77,23,73,61)\n",
    "\n",
    "#iterables -> list, str, tuple, set, dictionary, dataframe\n",
    "\n",
    "newtuple = list(map(lambda x : x+3 ,tup)) #will do mapping of the values\n",
    " \n",
    "print(newtuple)"
   ]
  },
  {
   "cell_type": "code",
   "execution_count": 6,
   "id": "c674598d-82a1-493c-9912-e075af1cafc9",
   "metadata": {},
   "outputs": [
    {
     "name": "stdout",
     "output_type": "stream",
     "text": [
      "Help on class filter in module builtins:\n",
      "\n",
      "class filter(object)\n",
      " |  filter(function or None, iterable) --> filter object\n",
      " |  \n",
      " |  Return an iterator yielding those items of iterable for which function(item)\n",
      " |  is true. If function is None, return the items that are true.\n",
      " |  \n",
      " |  Methods defined here:\n",
      " |  \n",
      " |  __getattribute__(self, name, /)\n",
      " |      Return getattr(self, name).\n",
      " |  \n",
      " |  __iter__(self, /)\n",
      " |      Implement iter(self).\n",
      " |  \n",
      " |  __next__(self, /)\n",
      " |      Implement next(self).\n",
      " |  \n",
      " |  __reduce__(...)\n",
      " |      Return state information for pickling.\n",
      " |  \n",
      " |  ----------------------------------------------------------------------\n",
      " |  Static methods defined here:\n",
      " |  \n",
      " |  __new__(*args, **kwargs) from builtins.type\n",
      " |      Create and return a new object.  See help(type) for accurate signature.\n",
      "\n"
     ]
    }
   ],
   "source": [
    "help(filter)"
   ]
  },
  {
   "cell_type": "code",
   "execution_count": 9,
   "id": "71aaf1b9-d56a-4267-b546-d330bb6c604e",
   "metadata": {},
   "outputs": [
    {
     "name": "stdout",
     "output_type": "stream",
     "text": [
      "[12, 34, 26, 250, 10]\n"
     ]
    }
   ],
   "source": [
    "#filter(func, Iterables) -> filter object -> indirectly access the values\n",
    "\n",
    "#filter the even number#list of numbers\n",
    "num = [12,37,34,26,9,250, 451, 3,10] #filter x%2==0 #number is divisible by 2\n",
    "\n",
    "#Define lambda function to filter even numbers\n",
    "even = list(filter(lambda x : (x % 2 == 0), num))\n",
    "\n",
    "#print the even number\n",
    "print(even)\n"
   ]
  },
  {
   "cell_type": "code",
   "execution_count": 12,
   "id": "16020425-dc40-4e54-aed9-0eeda195ef76",
   "metadata": {},
   "outputs": [],
   "source": [
    "def cub_new(num):\n",
    "    return num**3"
   ]
  },
  {
   "cell_type": "code",
   "execution_count": 13,
   "id": "7eea36ba-149a-4447-8b74-e9df88aa6a85",
   "metadata": {},
   "outputs": [
    {
     "name": "stdout",
     "output_type": "stream",
     "text": [
      "[125, 343, 10648, 912673, 157464, 238328, 456533, 12167, 389017, 226981]\n"
     ]
    }
   ],
   "source": [
    "tup = (5, 7, 22, 97, 54, 62, 77, 23, 73, 61)\n",
    "\n",
    "#iterables -> list, str, tuple, set, dictionary, dataframe\n",
    "\n",
    "newtuple = list(map(cub_new , tup)) #will do mapping of the values\n",
    "\n",
    "print(newtuple)"
   ]
  },
  {
   "cell_type": "code",
   "execution_count": 14,
   "id": "dc4dfae7-a871-41fb-8c7e-3c07accf28d3",
   "metadata": {},
   "outputs": [
    {
     "name": "stdout",
     "output_type": "stream",
     "text": [
      "[17, 44, 56, 123, 63, 312, 528, 26, 83]\n"
     ]
    }
   ],
   "source": [
    "tup = (5,7,22,97,54,62,77,23,73,61)\n",
    "num = [12, 37, 34, 26, 9, 250, 451, 3, 10]\n",
    "\n",
    "new_list = list(map(lambda x,y: x+y , tup, num))\n",
    "\n",
    "print(new_list)\n",
    "\n"
   ]
  },
  {
   "cell_type": "code",
   "execution_count": null,
   "id": "e6320466-30c3-48b4-bb75-f90a016270bd",
   "metadata": {},
   "outputs": [],
   "source": []
  }
 ],
 "metadata": {
  "kernelspec": {
   "display_name": "Python 3 (ipykernel)",
   "language": "python",
   "name": "python3"
  },
  "language_info": {
   "codemirror_mode": {
    "name": "ipython",
    "version": 3
   },
   "file_extension": ".py",
   "mimetype": "text/x-python",
   "name": "python",
   "nbconvert_exporter": "python",
   "pygments_lexer": "ipython3",
   "version": "3.11.7"
  }
 },
 "nbformat": 4,
 "nbformat_minor": 5
}
