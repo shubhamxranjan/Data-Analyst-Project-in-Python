{
 "cells": [
  {
   "cell_type": "markdown",
   "id": "7d4eb2d9-e950-46d9-bd85-6bcc3d52a959",
   "metadata": {},
   "source": [
    "# tuple"
   ]
  },
  {
   "cell_type": "code",
   "execution_count": 1,
   "id": "7b69c038-404d-4947-b133-d9b3aa99f261",
   "metadata": {},
   "outputs": [],
   "source": [
    "#tuple() #immutable #no inbuilt fn's\n",
    "\n",
    "#tuple is faster than a List\n",
    "\n",
    "tup1 = (1,2,3,\"text\")"
   ]
  },
  {
   "cell_type": "code",
   "execution_count": 2,
   "id": "2722a104-2972-4502-8848-4b0807fe0633",
   "metadata": {},
   "outputs": [
    {
     "data": {
      "text/plain": [
       "tuple"
      ]
     },
     "execution_count": 2,
     "metadata": {},
     "output_type": "execute_result"
    }
   ],
   "source": [
    "type(tup1)"
   ]
  },
  {
   "cell_type": "code",
   "execution_count": 3,
   "id": "65deb98f-ad20-4061-85ee-62ee5a5a5780",
   "metadata": {},
   "outputs": [
    {
     "data": {
      "text/plain": [
       "2027208878864"
      ]
     },
     "execution_count": 3,
     "metadata": {},
     "output_type": "execute_result"
    }
   ],
   "source": [
    "id(tup1)"
   ]
  },
  {
   "cell_type": "code",
   "execution_count": 4,
   "id": "16324795-6918-4fc5-b01b-2b39534a782b",
   "metadata": {},
   "outputs": [
    {
     "data": {
      "text/plain": [
       "1"
      ]
     },
     "execution_count": 4,
     "metadata": {},
     "output_type": "execute_result"
    }
   ],
   "source": [
    "tup1.count(\"text\")"
   ]
  },
  {
   "cell_type": "code",
   "execution_count": 5,
   "id": "3dfebaaa-55b3-404d-b3ab-e2f4ac83e15e",
   "metadata": {},
   "outputs": [
    {
     "data": {
      "text/plain": [
       "3"
      ]
     },
     "execution_count": 5,
     "metadata": {},
     "output_type": "execute_result"
    }
   ],
   "source": [
    "tup1.index(\"text\")"
   ]
  },
  {
   "cell_type": "code",
   "execution_count": 6,
   "id": "e6cdfb69-33fb-49a0-82fd-b14b9f8b7aaa",
   "metadata": {},
   "outputs": [],
   "source": [
    "#no inbuilt function in tuple\n",
    "\n",
    "tup1 = (1,2,3,4,\"text\",54)"
   ]
  },
  {
   "cell_type": "code",
   "execution_count": 7,
   "id": "8676af0a-0428-4640-8748-a8c12b1bc2e6",
   "metadata": {},
   "outputs": [
    {
     "data": {
      "text/plain": [
       "2027184142176"
      ]
     },
     "execution_count": 7,
     "metadata": {},
     "output_type": "execute_result"
    }
   ],
   "source": [
    "id(tup1)"
   ]
  },
  {
   "cell_type": "code",
   "execution_count": 25,
   "id": "bf4d91bd-ea32-438d-b0f8-19e14dbcdbd7",
   "metadata": {},
   "outputs": [],
   "source": [
    "tup1 = (1, 2, 3, 4, 'text', 54)"
   ]
  },
  {
   "cell_type": "code",
   "execution_count": 26,
   "id": "8e964f80-39c8-4bf7-b6ae-85bc7c6f6ece",
   "metadata": {},
   "outputs": [],
   "source": [
    "tup2 = (\"excelr\", \"solutions\")"
   ]
  },
  {
   "cell_type": "code",
   "execution_count": 27,
   "id": "ad8032dc-b508-4c7a-99a5-691e3e8f25ec",
   "metadata": {},
   "outputs": [],
   "source": [
    "tup1 = tup1 + tup2  #'+'"
   ]
  },
  {
   "cell_type": "code",
   "execution_count": 28,
   "id": "9827f474-f129-4043-baa9-83f568c5efe4",
   "metadata": {},
   "outputs": [
    {
     "data": {
      "text/plain": [
       "(1, 2, 3, 4, 'text', 54, 'excelr', 'solutions')"
      ]
     },
     "execution_count": 28,
     "metadata": {},
     "output_type": "execute_result"
    }
   ],
   "source": [
    "tup1"
   ]
  },
  {
   "cell_type": "code",
   "execution_count": 18,
   "id": "05356038-062e-4a7d-8444-04a24618c9a9",
   "metadata": {},
   "outputs": [
    {
     "data": {
      "text/plain": [
       "tuple"
      ]
     },
     "execution_count": 18,
     "metadata": {},
     "output_type": "execute_result"
    }
   ],
   "source": [
    "type(tup1)"
   ]
  },
  {
   "cell_type": "code",
   "execution_count": 19,
   "id": "906b3c2a-8162-4960-b984-3da45f6d76ae",
   "metadata": {},
   "outputs": [
    {
     "data": {
      "text/plain": [
       "8"
      ]
     },
     "execution_count": 19,
     "metadata": {},
     "output_type": "execute_result"
    }
   ],
   "source": [
    "len(tup1)"
   ]
  },
  {
   "cell_type": "code",
   "execution_count": 20,
   "id": "3be5eeff-fda7-4855-b6d1-a87764e49742",
   "metadata": {},
   "outputs": [
    {
     "data": {
      "text/plain": [
       "(1, 2, 3, 4, 'text', 54, 'excelr', 'solutions')"
      ]
     },
     "execution_count": 20,
     "metadata": {},
     "output_type": "execute_result"
    }
   ],
   "source": [
    "tup1"
   ]
  },
  {
   "cell_type": "code",
   "execution_count": 21,
   "id": "f6428acd-a26c-4877-b6af-94c894212ba1",
   "metadata": {},
   "outputs": [
    {
     "data": {
      "text/plain": [
       "(4, 'text')"
      ]
     },
     "execution_count": 21,
     "metadata": {},
     "output_type": "execute_result"
    }
   ],
   "source": [
    "tup1[3:5]   #+ve  &  -ve"
   ]
  },
  {
   "cell_type": "code",
   "execution_count": 22,
   "id": "c1306192-1a51-4972-8950-c5ac53e5f72b",
   "metadata": {},
   "outputs": [],
   "source": [
    "del(tup1)  #del(var)  - delete function"
   ]
  },
  {
   "cell_type": "code",
   "execution_count": 23,
   "id": "dd68edad-f809-4625-93b5-8ece5dc1de1f",
   "metadata": {},
   "outputs": [
    {
     "ename": "NameError",
     "evalue": "name 'tup1' is not defined",
     "output_type": "error",
     "traceback": [
      "\u001b[1;31m---------------------------------------------------------------------------\u001b[0m",
      "\u001b[1;31mNameError\u001b[0m                                 Traceback (most recent call last)",
      "Cell \u001b[1;32mIn[23], line 1\u001b[0m\n\u001b[1;32m----> 1\u001b[0m tup1\n",
      "\u001b[1;31mNameError\u001b[0m: name 'tup1' is not defined"
     ]
    }
   ],
   "source": [
    "tup1"
   ]
  },
  {
   "cell_type": "code",
   "execution_count": 29,
   "id": "d02fdd73-3b46-48da-8f03-4cb0ac992a9d",
   "metadata": {},
   "outputs": [
    {
     "data": {
      "text/plain": [
       "(1,\n",
       " 2,\n",
       " 3,\n",
       " 'text',\n",
       " 54,\n",
       " 1,\n",
       " 2,\n",
       " 3,\n",
       " 'text',\n",
       " 54,\n",
       " 1,\n",
       " 2,\n",
       " 3,\n",
       " 'text',\n",
       " 54,\n",
       " 1,\n",
       " 2,\n",
       " 3,\n",
       " 'text',\n",
       " 54)"
      ]
     },
     "execution_count": 29,
     "metadata": {},
     "output_type": "execute_result"
    }
   ],
   "source": [
    "tup1 = (1, 2, 3, 'text', 54)\n",
    "tup1*4"
   ]
  },
  {
   "cell_type": "code",
   "execution_count": 31,
   "id": "fb2eb324-5f5d-4f7a-b7fd-0f8ec3b4d891",
   "metadata": {},
   "outputs": [
    {
     "data": {
      "text/plain": [
       "(-10, 200, 0.5)"
      ]
     },
     "execution_count": 31,
     "metadata": {},
     "output_type": "execute_result"
    }
   ],
   "source": [
    "A = 10 ; B = 20\n",
    "\n",
    "A-B , A*B ,  A/B"
   ]
  },
  {
   "cell_type": "code",
   "execution_count": 33,
   "id": "19ce4b6b-1ca5-4f3a-bb4b-70648201725b",
   "metadata": {},
   "outputs": [
    {
     "name": "stdout",
     "output_type": "stream",
     "text": [
      "<class 'tuple'> (10, 20, 30)\n"
     ]
    }
   ],
   "source": [
    "a = 10 , 20 , 30\n",
    "#the default packing of elements in python is tuple\n",
    "print(type(a), a)"
   ]
  },
  {
   "cell_type": "markdown",
   "id": "d96e3edf-8395-492d-911a-e8fe7800ab58",
   "metadata": {},
   "source": [
    "# dictionary"
   ]
  },
  {
   "cell_type": "code",
   "execution_count": 36,
   "id": "cc8e3438-b506-4f30-bc93-9f415c331d18",
   "metadata": {},
   "outputs": [],
   "source": [
    "# Dictionary  #dict()  #syntax = {key : value}\n",
    "\n",
    "#key is also known as key or index\n",
    "\n",
    "#there is no indexing for dict (+ve or -ve) -> mapped Sequence\n",
    "\n",
    "dict1 = {} #empty dict -> {} or dict()\n"
   ]
  },
  {
   "cell_type": "code",
   "execution_count": 37,
   "id": "68797e4f-d942-4c2e-88c3-b048f8c6d71f",
   "metadata": {},
   "outputs": [
    {
     "data": {
      "text/plain": [
       "dict"
      ]
     },
     "execution_count": 37,
     "metadata": {},
     "output_type": "execute_result"
    }
   ],
   "source": [
    "type(dict1)"
   ]
  },
  {
   "cell_type": "code",
   "execution_count": 41,
   "id": "470e839e-838b-46e6-bbee-9b28a4b930a1",
   "metadata": {},
   "outputs": [
    {
     "data": {
      "text/plain": [
       "0"
      ]
     },
     "execution_count": 41,
     "metadata": {},
     "output_type": "execute_result"
    }
   ],
   "source": [
    "len(dict1)"
   ]
  },
  {
   "cell_type": "code",
   "execution_count": 17,
   "id": "5c6fb80a-4f6f-4869-a4eb-d1d057b162fc",
   "metadata": {},
   "outputs": [],
   "source": [
    "dict2 = {\"name\" : \"Excelr solutions\", \"year\":2013} #mapped sequence"
   ]
  },
  {
   "cell_type": "code",
   "execution_count": 45,
   "id": "cdd5909f-f0f7-40f8-996b-65782bd3ce24",
   "metadata": {},
   "outputs": [
    {
     "data": {
      "text/plain": [
       "{'name': 'Excelr solutions', 'year': 2013}"
      ]
     },
     "execution_count": 45,
     "metadata": {},
     "output_type": "execute_result"
    }
   ],
   "source": [
    "dict2"
   ]
  },
  {
   "cell_type": "code",
   "execution_count": 48,
   "id": "3026e242-0964-47d9-b67a-cc402564664d",
   "metadata": {},
   "outputs": [],
   "source": [
    "#no indexing (both +ve and -ve)\n",
    "\n",
    "\n",
    "dict1[0]"
   ]
  },
  {
   "cell_type": "code",
   "execution_count": 46,
   "id": "24218065-df2c-44d9-ac83-6d2b83212692",
   "metadata": {},
   "outputs": [
    {
     "data": {
      "text/plain": [
       "'Excelr solutions'"
      ]
     },
     "execution_count": 46,
     "metadata": {},
     "output_type": "execute_result"
    }
   ],
   "source": [
    "\n",
    "#indexing will be done on basis of keys\n",
    "\n",
    "dict2[\"name\"]"
   ]
  },
  {
   "cell_type": "code",
   "execution_count": 49,
   "id": "f9c25a39-2bac-4fef-a783-3b81f0c85418",
   "metadata": {},
   "outputs": [
    {
     "data": {
      "text/plain": [
       "2013"
      ]
     },
     "execution_count": 49,
     "metadata": {},
     "output_type": "execute_result"
    }
   ],
   "source": [
    "dict2[\"year\"]"
   ]
  },
  {
   "cell_type": "code",
   "execution_count": 3,
   "id": "e82d5ac4-7877-4965-be95-a6e99e7cb19d",
   "metadata": {},
   "outputs": [
    {
     "data": {
      "text/plain": [
       "{'name': 'Excelr solutions', 'year': 2013}"
      ]
     },
     "execution_count": 3,
     "metadata": {},
     "output_type": "execute_result"
    }
   ],
   "source": [
    "dict2"
   ]
  },
  {
   "cell_type": "code",
   "execution_count": 18,
   "id": "db4f67b3-4d58-4d78-880b-902e427b14d7",
   "metadata": {},
   "outputs": [],
   "source": [
    "#updating \n",
    "dict2[\"course\"] = \"data analyst\"  #dict[\"newkey\"] = new_value"
   ]
  },
  {
   "cell_type": "code",
   "execution_count": 5,
   "id": "41b4b5ad-72c6-4a9a-bce2-5f8ca74385eb",
   "metadata": {},
   "outputs": [
    {
     "data": {
      "text/plain": [
       "{'name': 'Excelr solutions', 'year': 2013, 'course': 'data analyst'}"
      ]
     },
     "execution_count": 5,
     "metadata": {},
     "output_type": "execute_result"
    }
   ],
   "source": [
    "dict2"
   ]
  },
  {
   "cell_type": "code",
   "execution_count": 19,
   "id": "5cc4113d-19f3-4665-89aa-338745e96ab9",
   "metadata": {},
   "outputs": [],
   "source": [
    "dict2.update({\"newcourse\":\"python\"})"
   ]
  },
  {
   "cell_type": "code",
   "execution_count": 7,
   "id": "1f37e237-0da3-4bd0-9d99-15c19d831bd7",
   "metadata": {},
   "outputs": [
    {
     "data": {
      "text/plain": [
       "{'name': 'Excelr solutions',\n",
       " 'year': 2013,\n",
       " 'course': 'data analyst',\n",
       " 'newcourse': 'python'}"
      ]
     },
     "execution_count": 7,
     "metadata": {},
     "output_type": "execute_result"
    }
   ],
   "source": [
    "dict2"
   ]
  },
  {
   "cell_type": "code",
   "execution_count": 20,
   "id": "7c12e8ea-0de7-4c6f-a815-e2e01e8cd246",
   "metadata": {},
   "outputs": [],
   "source": [
    "dict2[\"year\"] = \"2014\"  "
   ]
  },
  {
   "cell_type": "code",
   "execution_count": 10,
   "id": "f32f3e80-5f7a-485b-bbe0-7fc589290004",
   "metadata": {},
   "outputs": [
    {
     "data": {
      "text/plain": [
       "{'name': 'Excelr solutions',\n",
       " 'year': '2014',\n",
       " 'course': 'data analyst',\n",
       " 'newcourse': 'python'}"
      ]
     },
     "execution_count": 10,
     "metadata": {},
     "output_type": "execute_result"
    }
   ],
   "source": [
    "dict2"
   ]
  },
  {
   "cell_type": "code",
   "execution_count": 12,
   "id": "d74331f9-a7e0-4145-9fc5-436e775b84b1",
   "metadata": {},
   "outputs": [
    {
     "data": {
      "text/plain": [
       "dict_keys(['name', 'year', 'course', 'newcourse'])"
      ]
     },
     "execution_count": 12,
     "metadata": {},
     "output_type": "execute_result"
    }
   ],
   "source": [
    "dict2.keys()"
   ]
  },
  {
   "cell_type": "code",
   "execution_count": 14,
   "id": "ae9ea09b-51db-4c68-89d4-0cfb521ce971",
   "metadata": {},
   "outputs": [
    {
     "data": {
      "text/plain": [
       "dict_values(['Excelr solutions', '2014', 'data analyst', 'python'])"
      ]
     },
     "execution_count": 14,
     "metadata": {},
     "output_type": "execute_result"
    }
   ],
   "source": [
    "dict2.values()"
   ]
  },
  {
   "cell_type": "code",
   "execution_count": 21,
   "id": "283a66f9-5ad9-4ac3-a6bd-ba57231d29c9",
   "metadata": {},
   "outputs": [
    {
     "data": {
      "text/plain": [
       "dict_items([('name', 'Excelr solutions'), ('year', '2014'), ('course', 'data analyst'), ('newcourse', 'python')])"
      ]
     },
     "execution_count": 21,
     "metadata": {},
     "output_type": "execute_result"
    }
   ],
   "source": [
    "dict2.items()"
   ]
  },
  {
   "cell_type": "code",
   "execution_count": 15,
   "id": "39171a62-c835-4014-8e14-2a688815e895",
   "metadata": {},
   "outputs": [],
   "source": [
    "del(dict2[\"year\"]) #del(dict2)"
   ]
  },
  {
   "cell_type": "code",
   "execution_count": 16,
   "id": "01fa91b9-be44-44f4-9f5e-44f9c2c11ae5",
   "metadata": {},
   "outputs": [
    {
     "data": {
      "text/plain": [
       "{'name': 'Excelr solutions', 'course': 'data analyst', 'newcourse': 'python'}"
      ]
     },
     "execution_count": 16,
     "metadata": {},
     "output_type": "execute_result"
    }
   ],
   "source": [
    "dict2"
   ]
  },
  {
   "cell_type": "code",
   "execution_count": 23,
   "id": "2a830374-6513-45c9-816b-d8517541e35a",
   "metadata": {},
   "outputs": [
    {
     "data": {
      "text/plain": [
       "'python'"
      ]
     },
     "execution_count": 23,
     "metadata": {},
     "output_type": "execute_result"
    }
   ],
   "source": [
    "#pop()\n",
    "#pop expected at least 1 argument\n",
    "\n",
    "dict2.pop('newcourse')   #dict.pop(\"key\")"
   ]
  },
  {
   "cell_type": "code",
   "execution_count": 24,
   "id": "e7691c02-cc58-4b51-93fd-e8db9a68cf07",
   "metadata": {},
   "outputs": [
    {
     "data": {
      "text/plain": [
       "{'name': 'Excelr solutions', 'year': '2014', 'course': 'data analyst'}"
      ]
     },
     "execution_count": 24,
     "metadata": {},
     "output_type": "execute_result"
    }
   ],
   "source": [
    "dict2"
   ]
  },
  {
   "cell_type": "code",
   "execution_count": 25,
   "id": "188e8117-1ad5-4f52-95c1-a341a22bcd34",
   "metadata": {},
   "outputs": [
    {
     "data": {
      "text/plain": [
       "('course', 'data analyst')"
      ]
     },
     "execution_count": 25,
     "metadata": {},
     "output_type": "execute_result"
    }
   ],
   "source": [
    "#popitem()\n",
    "\n",
    "dict2.popitem()"
   ]
  },
  {
   "cell_type": "code",
   "execution_count": 26,
   "id": "02dd0277-1f23-43b0-bf67-6092a4982db5",
   "metadata": {},
   "outputs": [
    {
     "data": {
      "text/plain": [
       "{'name': 'Excelr solutions', 'year': '2014'}"
      ]
     },
     "execution_count": 26,
     "metadata": {},
     "output_type": "execute_result"
    }
   ],
   "source": [
    "dict2"
   ]
  },
  {
   "cell_type": "code",
   "execution_count": 27,
   "id": "7ee175a3-ba01-4172-bee7-dd3084f9a390",
   "metadata": {},
   "outputs": [],
   "source": [
    "del(dict2[\"year\"]) #del(dict2)"
   ]
  },
  {
   "cell_type": "code",
   "execution_count": 28,
   "id": "e34d2695-3d1d-4c21-97ca-bcab59218f31",
   "metadata": {},
   "outputs": [
    {
     "data": {
      "text/plain": [
       "{'name': 'Excelr solutions'}"
      ]
     },
     "execution_count": 28,
     "metadata": {},
     "output_type": "execute_result"
    }
   ],
   "source": [
    "dict2"
   ]
  },
  {
   "cell_type": "code",
   "execution_count": 29,
   "id": "dbf60333-8cfa-435b-adad-b73eb3ead881",
   "metadata": {},
   "outputs": [],
   "source": [
    "dict2.clear() #to clear all the elements in dictionary"
   ]
  },
  {
   "cell_type": "code",
   "execution_count": 30,
   "id": "2b8bb58a-23b1-4f72-a5f6-56c893d83ee6",
   "metadata": {},
   "outputs": [
    {
     "data": {
      "text/plain": [
       "{}"
      ]
     },
     "execution_count": 30,
     "metadata": {},
     "output_type": "execute_result"
    }
   ],
   "source": [
    "dict2  #empty dict  - {}  or dict()"
   ]
  },
  {
   "cell_type": "code",
   "execution_count": 31,
   "id": "3dc89be4-1c6b-4557-afa1-ad9799657b25",
   "metadata": {},
   "outputs": [],
   "source": [
    "del(dict2)  #"
   ]
  },
  {
   "cell_type": "code",
   "execution_count": 32,
   "id": "46d37ccf-c3cc-41d9-a59b-0afc52798f9d",
   "metadata": {},
   "outputs": [
    {
     "ename": "NameError",
     "evalue": "name 'dict2' is not defined",
     "output_type": "error",
     "traceback": [
      "\u001b[1;31m---------------------------------------------------------------------------\u001b[0m",
      "\u001b[1;31mNameError\u001b[0m                                 Traceback (most recent call last)",
      "Cell \u001b[1;32mIn[32], line 1\u001b[0m\n\u001b[1;32m----> 1\u001b[0m dict2\n",
      "\u001b[1;31mNameError\u001b[0m: name 'dict2' is not defined"
     ]
    }
   ],
   "source": [
    "dict2"
   ]
  },
  {
   "cell_type": "code",
   "execution_count": 33,
   "id": "f210850c-8c41-43e8-8277-97d6a556a443",
   "metadata": {},
   "outputs": [],
   "source": [
    "dict2 = {\"name\" : \"Excelr solutions\", \"year\":2013}"
   ]
  },
  {
   "cell_type": "code",
   "execution_count": 35,
   "id": "a9b9ddd0-b707-47ed-9b14-c462dfb5b0c8",
   "metadata": {},
   "outputs": [],
   "source": [
    "dict_new = dict2.copy()"
   ]
  },
  {
   "cell_type": "code",
   "execution_count": 36,
   "id": "d1203536-4562-45e9-bf84-eeedfed28d55",
   "metadata": {},
   "outputs": [
    {
     "data": {
      "text/plain": [
       "{'name': 'Excelr solutions', 'year': 2013}"
      ]
     },
     "execution_count": 36,
     "metadata": {},
     "output_type": "execute_result"
    }
   ],
   "source": [
    "dict_new"
   ]
  },
  {
   "cell_type": "code",
   "execution_count": 37,
   "id": "c21e9083-ddc4-4ac3-b4a0-3cf45abc62bc",
   "metadata": {},
   "outputs": [
    {
     "data": {
      "text/plain": [
       "'Excelr solutions'"
      ]
     },
     "execution_count": 37,
     "metadata": {},
     "output_type": "execute_result"
    }
   ],
   "source": [
    "dict2.get(\"name\") #can be also written as dict2[\"name\"]"
   ]
  },
  {
   "cell_type": "markdown",
   "id": "d8e0fba7-271f-4540-9e08-8f1fe9e509b3",
   "metadata": {},
   "source": [
    "# set"
   ]
  },
  {
   "cell_type": "raw",
   "id": "9732ea29-52d2-43c3-916e-32330118d80e",
   "metadata": {},
   "source": [
    "1 - Basic Set Operations:\n",
    "Union: A = {1, 2, 3}, B = {3, 4, 5}. A ∪ B = {1, 2, 3, 4, 5}.\n",
    "Intersection: A ∩ B = {3}.\n",
    "Difference: A - B = {1, 2}.\n",
    "Complement: If A is a subset of universal set U, then A' is the set of elements in U but not in A.\n",
    "------------------------------------------------------------------------------------------------------\n",
    "\n",
    "2 - Set Relations:\n",
    "Subset: A = {1, 2}, B = {1, 2, 3}. A ⊆ B.\n",
    "Superset: B ⊇ A.\n",
    "Equal sets: A = {1, 2, 3}, B = {3, 2, 1}. A = B.\n",
    "Disjoint sets: A = {1, 2}, B = {3, 4}. A and B are disjoint.\n",
    "------------------------------------------------------------------------------------------------------\n",
    "\n",
    "3 - Special Sets:\n",
    "Empty set: ∅ or {}.\n",
    "Singleton set: Example: {5}.\n",
    "Power set: If A = {1, 2}, P(A) = {{}, {1}, {2}, {1, 2}}.\n",
    "------------------------------------------------------------------------------------------------------\n",
    "\n",
    "4 - Set Identities :\n",
    "Distributive Laws:\n",
    "Union over Intersection\n",
    "Intersection over Union\n",
    "------------------------------------------------------------------------------------------------------\n",
    "\n",
    "De Morgan's Laws:\n",
    "Complement of Union\n",
    "Complement of Intersection\n",
    "------------------------------------------------------------------------------------------------------\n",
    "\n",
    "5 - Set Builder Notation:\n",
    "Example: {x | x is an integer and x is even}.\n",
    "------------------------------------------------------------------------------------------------------\n",
    "\n",
    "6 - Applications:\n",
    "Venn diagrams: Visual representation of set relationships.\n",
    "Probability theory: Sets represent sample spaces and events."
   ]
  },
  {
   "cell_type": "code",
   "execution_count": 45,
   "id": "d47a5737-6819-4569-afeb-4681bf23f083",
   "metadata": {},
   "outputs": [
    {
     "name": "stdout",
     "output_type": "stream",
     "text": [
      "{1, 2, 3}\n"
     ]
    }
   ],
   "source": [
    "# syntax for set is {1,2,3,4} #set()\n",
    "\n",
    "set1 = {1,2,3}  #set\n",
    "print(set1)"
   ]
  },
  {
   "cell_type": "code",
   "execution_count": null,
   "id": "cf87c8d1-6107-4cdc-9179-b2ed722b9551",
   "metadata": {},
   "outputs": [],
   "source": [
    "type(set1)"
   ]
  },
  {
   "cell_type": "code",
   "execution_count": 2,
   "id": "0c7700e5-7e20-43b0-8214-ab3260092647",
   "metadata": {},
   "outputs": [
    {
     "name": "stdout",
     "output_type": "stream",
     "text": [
      "{1, 2, 3, 4}\n"
     ]
    }
   ],
   "source": [
    "#set - union, intersection, symmetric\n",
    "\n",
    "#mutable , unique values(no duplicates will be considered), no positional indexing   #ordered\n",
    "\n",
    "set1 = {1,2,3,4,4,4,4,4,4}\n",
    "print(set1)"
   ]
  },
  {
   "cell_type": "code",
   "execution_count": 3,
   "id": "4ff751f2-7387-4f83-9703-14ebe58e8656",
   "metadata": {},
   "outputs": [
    {
     "ename": "TypeError",
     "evalue": "'set' object is not subscriptable",
     "output_type": "error",
     "traceback": [
      "\u001b[1;31m---------------------------------------------------------------------------\u001b[0m",
      "\u001b[1;31mTypeError\u001b[0m                                 Traceback (most recent call last)",
      "Cell \u001b[1;32mIn[3], line 1\u001b[0m\n\u001b[1;32m----> 1\u001b[0m set1[\u001b[38;5;241m0\u001b[39m]\n",
      "\u001b[1;31mTypeError\u001b[0m: 'set' object is not subscriptable"
     ]
    }
   ],
   "source": [
    "#'set' object is not subscriptable\n",
    "\n",
    "set1[0]\n",
    "\n"
   ]
  },
  {
   "cell_type": "code",
   "execution_count": 4,
   "id": "beb996cb-a950-4920-a190-b90d8e0f5ee4",
   "metadata": {},
   "outputs": [
    {
     "name": "stdout",
     "output_type": "stream",
     "text": [
      "{1, 2, 3, 4}\n"
     ]
    }
   ],
   "source": [
    "#why no indexing\n",
    "\n",
    "print({4,4,1,2,3})"
   ]
  },
  {
   "cell_type": "code",
   "execution_count": 7,
   "id": "24c27a2f-272e-498f-987c-5c06c1902017",
   "metadata": {},
   "outputs": [],
   "source": [
    "set2 = set() #empty set - set() (there is no other way)"
   ]
  },
  {
   "cell_type": "code",
   "execution_count": 8,
   "id": "085f3695-54e4-4928-b579-6b0e478edb31",
   "metadata": {},
   "outputs": [
    {
     "data": {
      "text/plain": [
       "set()"
      ]
     },
     "execution_count": 8,
     "metadata": {},
     "output_type": "execute_result"
    }
   ],
   "source": [
    "set2"
   ]
  },
  {
   "cell_type": "code",
   "execution_count": 9,
   "id": "f45a8b90-ec57-4ea1-bbf9-ee780983ef49",
   "metadata": {},
   "outputs": [
    {
     "data": {
      "text/plain": [
       "set"
      ]
     },
     "execution_count": 9,
     "metadata": {},
     "output_type": "execute_result"
    }
   ],
   "source": [
    "type(set2)"
   ]
  },
  {
   "cell_type": "code",
   "execution_count": 10,
   "id": "8e17fa1f-ff6c-4c1a-9428-907d09424c3d",
   "metadata": {},
   "outputs": [
    {
     "data": {
      "text/plain": [
       "0"
      ]
     },
     "execution_count": 10,
     "metadata": {},
     "output_type": "execute_result"
    }
   ],
   "source": [
    "len(set2)"
   ]
  },
  {
   "cell_type": "code",
   "execution_count": 11,
   "id": "ae337e92-73b1-4a3c-9928-1052020898d4",
   "metadata": {},
   "outputs": [
    {
     "data": {
      "text/plain": [
       "dict"
      ]
     },
     "execution_count": 11,
     "metadata": {},
     "output_type": "execute_result"
    }
   ],
   "source": [
    " type({})  #empty dict"
   ]
  },
  {
   "cell_type": "code",
   "execution_count": 12,
   "id": "5e04f525-357f-4275-b4fb-be05c0849867",
   "metadata": {},
   "outputs": [
    {
     "data": {
      "text/plain": [
       "[1, 2, 3, 4, 55]"
      ]
     },
     "execution_count": 12,
     "metadata": {},
     "output_type": "execute_result"
    }
   ],
   "source": [
    "list({1,2,3,4,55})"
   ]
  },
  {
   "cell_type": "code",
   "execution_count": 13,
   "id": "ef786a60-95f7-4e79-9eec-4aafb22d8a2a",
   "metadata": {},
   "outputs": [
    {
     "data": {
      "text/plain": [
       "(1, 2, 3, 4, 5, 56, 4)"
      ]
     },
     "execution_count": 13,
     "metadata": {},
     "output_type": "execute_result"
    }
   ],
   "source": [
    "tuple([1,2,3,4,5,56,4])"
   ]
  },
  {
   "cell_type": "code",
   "execution_count": 14,
   "id": "15653670-c2a2-4d60-a8d5-9a8f2ea5991e",
   "metadata": {},
   "outputs": [
    {
     "data": {
      "text/plain": [
       "(1, 4)"
      ]
     },
     "execution_count": 14,
     "metadata": {},
     "output_type": "execute_result"
    }
   ],
   "source": [
    "tuple({1,4,4,4})"
   ]
  },
  {
   "cell_type": "code",
   "execution_count": 15,
   "id": "fd734a7e-5a3f-4ec4-a0c6-f9e6ca0e5a67",
   "metadata": {},
   "outputs": [],
   "source": [
    "set3 = set([1,2,3,4,4,4])  #converting a list to set by using set fn"
   ]
  },
  {
   "cell_type": "code",
   "execution_count": 16,
   "id": "8a2fcfea-ac53-4be0-bd4e-183b65a34272",
   "metadata": {},
   "outputs": [
    {
     "data": {
      "text/plain": [
       "{1, 2, 3, 4}"
      ]
     },
     "execution_count": 16,
     "metadata": {},
     "output_type": "execute_result"
    }
   ],
   "source": [
    "set3"
   ]
  },
  {
   "cell_type": "code",
   "execution_count": 17,
   "id": "9f2674f2-55c7-430b-85d0-36e7ec8415cd",
   "metadata": {},
   "outputs": [
    {
     "data": {
      "text/plain": [
       "{1, 2, 3, 4, 5}"
      ]
     },
     "execution_count": 17,
     "metadata": {},
     "output_type": "execute_result"
    }
   ],
   "source": [
    "#.union()\n",
    "\n",
    "s1 = {1,2,3}\n",
    "s2 = {3,4,5}\n",
    "\n",
    "s1.union(s2)  #.union #s2.union(s1)"
   ]
  },
  {
   "cell_type": "code",
   "execution_count": 22,
   "id": "fee96992-0dfc-45cd-bf20-b584e4410126",
   "metadata": {},
   "outputs": [
    {
     "data": {
      "text/plain": [
       "{1, 2, 3, 4, 5}"
      ]
     },
     "execution_count": 22,
     "metadata": {},
     "output_type": "execute_result"
    }
   ],
   "source": [
    "s1 | s2  # | - union "
   ]
  },
  {
   "cell_type": "code",
   "execution_count": 27,
   "id": "b92478bc-0ae7-4372-a3d1-19a1977df7c4",
   "metadata": {},
   "outputs": [
    {
     "data": {
      "text/plain": [
       "{3}"
      ]
     },
     "execution_count": 27,
     "metadata": {},
     "output_type": "execute_result"
    }
   ],
   "source": [
    "#.intersection()\n",
    "\n",
    "s1 = {1,2,3}\n",
    "s2 = {3,4,5}\n",
    "\n",
    "s1.intersection(s2)  #.intersection #s1.intersection(s2)"
   ]
  },
  {
   "cell_type": "code",
   "execution_count": 28,
   "id": "7f4cd565-1bc3-4a2c-827a-d8ee21fecbf0",
   "metadata": {},
   "outputs": [
    {
     "data": {
      "text/plain": [
       "{3}"
      ]
     },
     "execution_count": 28,
     "metadata": {},
     "output_type": "execute_result"
    }
   ],
   "source": [
    "s1&s2  #& - intersection"
   ]
  },
  {
   "cell_type": "code",
   "execution_count": 29,
   "id": "d1b50dfa-3e8e-4427-830d-81a1744dea50",
   "metadata": {},
   "outputs": [
    {
     "data": {
      "text/plain": [
       "{1, 2, 3, 4}"
      ]
     },
     "execution_count": 29,
     "metadata": {},
     "output_type": "execute_result"
    }
   ],
   "source": [
    "#difference (A-B)  #\n",
    "\n",
    "s1 = {1,2,3,4,5,6} #A\n",
    "s2 = {5,6,7} #B\n",
    "\n",
    "s1 - s2 #A-B"
   ]
  },
  {
   "cell_type": "code",
   "execution_count": 33,
   "id": "e7634536-60c8-40e0-ad61-b965c1ab4a91",
   "metadata": {},
   "outputs": [
    {
     "data": {
      "text/plain": [
       "{1, 2, 3, 4}"
      ]
     },
     "execution_count": 33,
     "metadata": {},
     "output_type": "execute_result"
    }
   ],
   "source": [
    " s1.difference(s2) #A-B"
   ]
  },
  {
   "cell_type": "code",
   "execution_count": 34,
   "id": "a4a53a6b-1355-4caf-83ac-5d0ed97e4db8",
   "metadata": {},
   "outputs": [
    {
     "data": {
      "text/plain": [
       "{7}"
      ]
     },
     "execution_count": 34,
     "metadata": {},
     "output_type": "execute_result"
    }
   ],
   "source": [
    "#difference (B-A)\n",
    "\n",
    "s1 = {1,2,3,4,5,6}\n",
    "s2 = {5,6,7}\n",
    "\n",
    "s2 - s1"
   ]
  },
  {
   "cell_type": "code",
   "execution_count": 35,
   "id": "803c4e2c-086d-4f7c-abea-97ec99d9099f",
   "metadata": {},
   "outputs": [
    {
     "data": {
      "text/plain": [
       "{7}"
      ]
     },
     "execution_count": 35,
     "metadata": {},
     "output_type": "execute_result"
    }
   ],
   "source": [
    "s2.difference(s1) #B-A"
   ]
  },
  {
   "cell_type": "code",
   "execution_count": 37,
   "id": "6e233384-d60d-40c1-bd61-3bdd33416df8",
   "metadata": {},
   "outputs": [],
   "source": [
    "#symmetric difference\n",
    "\n",
    "s1 = {1,2,3,4,5}\n",
    "s2 = {4,5,6,7,8}"
   ]
  },
  {
   "cell_type": "code",
   "execution_count": 38,
   "id": "71b8ab4c-7ef8-48c1-83a8-7c6c231c5768",
   "metadata": {},
   "outputs": [
    {
     "data": {
      "text/plain": [
       "{1, 2, 3, 6, 7, 8}"
      ]
     },
     "execution_count": 38,
     "metadata": {},
     "output_type": "execute_result"
    }
   ],
   "source": [
    "s1.symmetric_difference(s2) #or #s2.symmetric_difference(s1)"
   ]
  },
  {
   "cell_type": "code",
   "execution_count": 39,
   "id": "fb3a08a6-cf7c-4a4a-bebc-4d91dce5f3d7",
   "metadata": {},
   "outputs": [
    {
     "data": {
      "text/plain": [
       "False"
      ]
     },
     "execution_count": 39,
     "metadata": {},
     "output_type": "execute_result"
    }
   ],
   "source": [
    "s1 = {1,2,3,4,5} \n",
    "s2 = {1,2,3}\n",
    "\n",
    "s1.issubset(s2)"
   ]
  },
  {
   "cell_type": "code",
   "execution_count": 40,
   "id": "0b14e35d-c37c-483d-a065-4edda7b3455a",
   "metadata": {},
   "outputs": [
    {
     "data": {
      "text/plain": [
       "True"
      ]
     },
     "execution_count": 40,
     "metadata": {},
     "output_type": "execute_result"
    }
   ],
   "source": [
    "s2.issubset(s1)"
   ]
  },
  {
   "cell_type": "code",
   "execution_count": 42,
   "id": "7786f6fe-9e60-4d97-9b22-a8b9f33bbeab",
   "metadata": {},
   "outputs": [
    {
     "name": "stdout",
     "output_type": "stream",
     "text": [
      "{4, 5}\n"
     ]
    }
   ],
   "source": [
    "s1 = {1,2,3,4,5}\n",
    "s2 = {4,5,6,7,8}\n",
    "\n",
    "s1.intersection_update(s2)\n",
    "\n",
    "print(s1)"
   ]
  },
  {
   "cell_type": "code",
   "execution_count": 43,
   "id": "cb5fe31b-459e-40be-97a5-a94557b6659a",
   "metadata": {},
   "outputs": [
    {
     "name": "stdout",
     "output_type": "stream",
     "text": [
      "Help on built-in function mro:\n",
      "\n",
      "mro() method of builtins.type instance\n",
      "    Return a type's method resolution order.\n",
      "\n"
     ]
    }
   ],
   "source": [
    "help(set.mro)"
   ]
  },
  {
   "cell_type": "code",
   "execution_count": 47,
   "id": "a6f687fe-6e79-4f41-9882-469ada5d09c4",
   "metadata": {},
   "outputs": [
    {
     "data": {
      "text/plain": [
       "[set, object]"
      ]
     },
     "execution_count": 47,
     "metadata": {},
     "output_type": "execute_result"
    }
   ],
   "source": [
    "set.mro()"
   ]
  },
  {
   "cell_type": "raw",
   "id": "a9b27c76-d7ad-4ac6-a70d-e5c736a170dd",
   "metadata": {},
   "source": [
    "int, float - numerical data\n",
    "list -> Elements can be changed after creation and tuple -> Elements cannot be changed after creation - mix of collection items \n",
    "set - order, non duplicate & to filter the data\n",
    "string - storing text data\n",
    "dictionary - {to store the key : value} #mapped sequence"
   ]
  },
  {
   "cell_type": "markdown",
   "id": "515c96fc-183b-497e-aedc-a422af7e9a0d",
   "metadata": {},
   "source": [
    "#### input()"
   ]
  },
  {
   "cell_type": "code",
   "execution_count": null,
   "id": "167eb1c0-abf7-4bda-bd47-6ad20c45d66f",
   "metadata": {},
   "outputs": [],
   "source": [
    "X = 10; Y = 20 #static coding #values of the var's are already prefixed"
   ]
  },
  {
   "cell_type": "code",
   "execution_count": 51,
   "id": "05cbb4be-720c-47f9-b7c1-075e38c23010",
   "metadata": {},
   "outputs": [
    {
     "name": "stdin",
     "output_type": "stream",
     "text": [
      "please enter you name:  python\n"
     ]
    }
   ],
   "source": [
    "#Dynamic coding #input()\n",
    "\n",
    "name = input (\"please enter you name: \")"
   ]
  },
  {
   "cell_type": "code",
   "execution_count": 52,
   "id": "248ae560-4fd6-4b17-ae9b-fcf14115b2b5",
   "metadata": {},
   "outputs": [
    {
     "data": {
      "text/plain": [
       "'python'"
      ]
     },
     "execution_count": 52,
     "metadata": {},
     "output_type": "execute_result"
    }
   ],
   "source": [
    "name"
   ]
  },
  {
   "cell_type": "code",
   "execution_count": 53,
   "id": "1e4d0a79-0798-4971-b538-0ef801fea33e",
   "metadata": {},
   "outputs": [
    {
     "data": {
      "text/plain": [
       "str"
      ]
     },
     "execution_count": 53,
     "metadata": {},
     "output_type": "execute_result"
    }
   ],
   "source": [
    "type(name)"
   ]
  },
  {
   "cell_type": "code",
   "execution_count": 58,
   "id": "9c6cff42-5a00-4233-b81e-87f62e897e48",
   "metadata": {},
   "outputs": [
    {
     "name": "stdin",
     "output_type": "stream",
     "text": [
      "please enter a year:  2023\n"
     ]
    }
   ],
   "source": [
    " year = int(input(\"please enter a year: \") ) #int()  #by default, input() will take any input as str formate"
   ]
  },
  {
   "cell_type": "code",
   "execution_count": 59,
   "id": "0d15eb54-4d61-4184-ac1f-cd72b161dbb2",
   "metadata": {},
   "outputs": [
    {
     "name": "stdout",
     "output_type": "stream",
     "text": [
      "<class 'int'> 2023\n"
     ]
    }
   ],
   "source": [
    "print(type(year), year)"
   ]
  },
  {
   "cell_type": "code",
   "execution_count": 60,
   "id": "3160ec8a-1311-4bf2-89b3-eb41ac664872",
   "metadata": {},
   "outputs": [
    {
     "name": "stdin",
     "output_type": "stream",
     "text": [
      "please enter a year:  2023.0\n"
     ]
    },
    {
     "ename": "ValueError",
     "evalue": "invalid literal for int() with base 10: '2023.0'",
     "output_type": "error",
     "traceback": [
      "\u001b[1;31m---------------------------------------------------------------------------\u001b[0m",
      "\u001b[1;31mValueError\u001b[0m                                Traceback (most recent call last)",
      "Cell \u001b[1;32mIn[60], line 1\u001b[0m\n\u001b[1;32m----> 1\u001b[0m year \u001b[38;5;241m=\u001b[39m \u001b[38;5;28mint\u001b[39m(\u001b[38;5;28minput\u001b[39m(\u001b[38;5;124m\"\u001b[39m\u001b[38;5;124mplease enter a year: \u001b[39m\u001b[38;5;124m\"\u001b[39m) )\n",
      "\u001b[1;31mValueError\u001b[0m: invalid literal for int() with base 10: '2023.0'"
     ]
    }
   ],
   "source": [
    "year = int(input(\"please enter a year: \") )"
   ]
  },
  {
   "cell_type": "code",
   "execution_count": 61,
   "id": "cd00226e-8379-4c3a-8446-589e48d263b4",
   "metadata": {},
   "outputs": [
    {
     "name": "stdin",
     "output_type": "stream",
     "text": [
      "please enter your weight:  70.5\n"
     ]
    }
   ],
   "source": [
    " weight = float(input(\"please enter your weight: \")) #float"
   ]
  },
  {
   "cell_type": "code",
   "execution_count": 63,
   "id": "34662b9b-98b6-4007-81a0-1bd66213c010",
   "metadata": {},
   "outputs": [
    {
     "name": "stdout",
     "output_type": "stream",
     "text": [
      "<class 'float'> 70.5\n"
     ]
    }
   ],
   "source": [
    "print(type(weight), weight)"
   ]
  },
  {
   "cell_type": "code",
   "execution_count": null,
   "id": "7879bf5f-8ce2-46f1-8e3d-22a2458102ee",
   "metadata": {},
   "outputs": [],
   "source": [
    "#eval()  - evaluate #Pass the data in exact syntax "
   ]
  },
  {
   "cell_type": "code",
   "execution_count": 64,
   "id": "59bc8652-12da-4ced-be5d-3016fd62a7ce",
   "metadata": {},
   "outputs": [
    {
     "name": "stdin",
     "output_type": "stream",
     "text": [
      "please enter some dtype:   {\"key\":\"value\"}\n"
     ]
    }
   ],
   "source": [
    "new_input = eval(input(\"please enter some dtype:  \"))"
   ]
  },
  {
   "cell_type": "code",
   "execution_count": 65,
   "id": "9ff2fc08-5a91-40c8-966e-c771b695732f",
   "metadata": {},
   "outputs": [
    {
     "name": "stdout",
     "output_type": "stream",
     "text": [
      "<class 'dict'> {'key': 'value'}\n"
     ]
    }
   ],
   "source": [
    "print(type(new_input), new_input)"
   ]
  },
  {
   "cell_type": "code",
   "execution_count": 66,
   "id": "bb78ad1b-6a97-40fb-b78b-8b692d59c5ce",
   "metadata": {},
   "outputs": [
    {
     "name": "stdin",
     "output_type": "stream",
     "text": [
      "please enter your name  python\n"
     ]
    }
   ],
   "source": [
    "new_input2 = list(input(\"please enter your name \"))"
   ]
  },
  {
   "cell_type": "code",
   "execution_count": 68,
   "id": "a9b4be2b-c398-45db-bf5e-e275d8347e09",
   "metadata": {},
   "outputs": [
    {
     "data": {
      "text/plain": [
       "['p', 'y', 't', 'h', 'o', 'n']"
      ]
     },
     "execution_count": 68,
     "metadata": {},
     "output_type": "execute_result"
    }
   ],
   "source": [
    "new_input2"
   ]
  },
  {
   "cell_type": "code",
   "execution_count": 69,
   "id": "2e7f53a2-0502-43ac-85b0-595e12a61759",
   "metadata": {},
   "outputs": [
    {
     "data": {
      "text/plain": [
       "['p', 'y', 't', 'h', 'o', 'n']"
      ]
     },
     "execution_count": 69,
     "metadata": {},
     "output_type": "execute_result"
    }
   ],
   "source": [
    "list(\"python\")"
   ]
  },
  {
   "cell_type": "code",
   "execution_count": null,
   "id": "f90e563a-d538-4c9e-a371-1397bc637246",
   "metadata": {},
   "outputs": [],
   "source": []
  }
 ],
 "metadata": {
  "kernelspec": {
   "display_name": "Python 3 (ipykernel)",
   "language": "python",
   "name": "python3"
  },
  "language_info": {
   "codemirror_mode": {
    "name": "ipython",
    "version": 3
   },
   "file_extension": ".py",
   "mimetype": "text/x-python",
   "name": "python",
   "nbconvert_exporter": "python",
   "pygments_lexer": "ipython3",
   "version": "3.11.7"
  }
 },
 "nbformat": 4,
 "nbformat_minor": 5
}
