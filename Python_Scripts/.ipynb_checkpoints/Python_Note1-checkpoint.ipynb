{
 "cells": [
  {
   "cell_type": "code",
   "execution_count": 2,
   "id": "a4ebe3ee-d2b8-443b-b366-92fc07a89711",
   "metadata": {},
   "outputs": [
    {
     "data": {
      "text/plain": [
       "3"
      ]
     },
     "execution_count": 2,
     "metadata": {},
     "output_type": "execute_result"
    }
   ],
   "source": [
    "1+2\n",
    "\n",
    "#How to run the cell - cntrl + Enter or Shift + Enter or Shift + enter"
   ]
  },
  {
   "cell_type": "code",
   "execution_count": 2,
   "id": "c6b4f8ec-3435-4d2a-a3d3-ecff25401c79",
   "metadata": {},
   "outputs": [
    {
     "data": {
      "text/plain": [
       "9"
      ]
     },
     "execution_count": 2,
     "metadata": {},
     "output_type": "execute_result"
    }
   ],
   "source": [
    "4+5\n",
    "\n",
    "#notepad -> (extension) .txt\n",
    "#word -> .doc\n",
    "\n",
    "#notebook -> .ipynb (can't open directly)\n",
    "# spyder or pycharm or VS code -> .py (can be opened through notepad)  "
   ]
  },
  {
   "cell_type": "code",
   "execution_count": 3,
   "id": "787bea56-e635-40af-b1ba-7b22307efddc",
   "metadata": {},
   "outputs": [
    {
     "name": "stdout",
     "output_type": "stream",
     "text": [
      "Hello\n"
     ]
    }
   ],
   "source": [
    "#python - programming language, extracting inslights from the data using different modules or libraries\n",
    "#OOP #short lines of syntaxes\n",
    "\n",
    "#inbult functions - print, type, len etc -> ()\n",
    "\n",
    "#print fn\n",
    " \n",
    "print(\"Hello\") -> # ->Display"
   ]
  },
  {
   "cell_type": "code",
   "execution_count": 4,
   "id": "19a1b0b4-961c-408d-953b-79cc2d3d74a7",
   "metadata": {},
   "outputs": [
    {
     "name": "stdout",
     "output_type": "stream",
     "text": [
      "5 6\n"
     ]
    }
   ],
   "source": [
    "x=5\n",
    "y=6\n",
    "\n",
    "print(x,y)  #print(var, var1, var 2)"
   ]
  },
  {
   "cell_type": "raw",
   "id": "0f86d356-ee76-43af-8773-9bf41f206b38",
   "metadata": {},
   "source": [
    "# Datatypes\n",
    "\n",
    "# x = ?\n",
    "\n",
    "# integer -> whole number -> eg : 1,2,3,4,0  - int()\n",
    "# float -> decimals -> eg: 2.25, 2.0 -  float()\n",
    "# bool-> True(1) False (0)\n",
    "\n",
    "# String -> text or characters -> \"text\" or 'text'  -> text sequencing  -> indexing(+ve  &  -ve) -> str()\n",
    "# list -> mix of collection of items -> [] -> [1,2.0,True,\"String\"] - list() -> Sequencing\n",
    "# tuple -> mix of collection of items -> () -> (1,2.0,True,\"String\") - tuple() -> Sequencing\n",
    "\n",
    "# dictionary -> syntax -{Key1 :value1, key2: value2,....keyn:valuen} -> eg: {\"name\":\"python\" ,\"course\":\"DA\"} -> we store in Key value pair\n",
    "# set theory -> {1,2,3,4,5} ->we store only value \n",
    "\n",
    "# DataFrame, Series, array(matrice)\n",
    "# to comment -> cntrl+/"
   ]
  },
  {
   "cell_type": "code",
   "execution_count": 10,
   "id": "bdfc4488-f55c-47e0-86cf-032b5f80a38f",
   "metadata": {},
   "outputs": [
    {
     "name": "stdout",
     "output_type": "stream",
     "text": [
      "3\n"
     ]
    }
   ],
   "source": [
    "#variable\n",
    "#no spaces in var naming\n",
    "#case sensitive\n",
    "#meaningful var names should be written\n",
    "\n",
    "#a 1 = 1+2\n",
    "a_1 = 1+2\n",
    "\n",
    "#print(a 1)\n",
    "print(a_1)\n",
    "# print(A_1)\n",
    "\n",
    "\n",
    "\n",
    "#SyntaxError : invalid syntax ->missing of punchuations, extra spaces in variable names etc\n",
    "#NameError : name 'A_1' is not defined -> var is not yet defined "
   ]
  },
  {
   "cell_type": "code",
   "execution_count": 11,
   "id": "4b9a839d-b3ce-4be0-adef-1ffba9cc0017",
   "metadata": {},
   "outputs": [
    {
     "name": "stdout",
     "output_type": "stream",
     "text": [
      "8 10 5 6\n",
      "8 5 10 6\n"
     ]
    }
   ],
   "source": [
    "#assinging multiple varaible \n",
    "\n",
    "a,b,c,d = 8,10,5,6\n",
    "\n",
    "print(a,b,c,d)\n",
    "print(a,c,b,d)"
   ]
  },
  {
   "cell_type": "code",
   "execution_count": 17,
   "id": "f0efc525-576c-4c6f-9a14-1724e3e4028a",
   "metadata": {},
   "outputs": [
    {
     "name": "stdout",
     "output_type": "stream",
     "text": [
      "0 0\n"
     ]
    }
   ],
   "source": [
    "var1, var2 = 0,0\n",
    "print(var1,var2)\n",
    "\n"
   ]
  },
  {
   "cell_type": "code",
   "execution_count": 20,
   "id": "41561426-044c-4014-a990-69beac0bc4f3",
   "metadata": {},
   "outputs": [],
   "source": [
    "new_var = 30.2\n",
    "# print(new_var)"
   ]
  },
  {
   "cell_type": "code",
   "execution_count": 21,
   "id": "1afe01fc-c5dc-4708-bea9-69a1ae9344f4",
   "metadata": {},
   "outputs": [
    {
     "data": {
      "text/plain": [
       "float"
      ]
     },
     "execution_count": 21,
     "metadata": {},
     "output_type": "execute_result"
    }
   ],
   "source": [
    "type(new_var)  #type() -> tells you the dtype of the var"
   ]
  },
  {
   "cell_type": "code",
   "execution_count": 23,
   "id": "9a2ff652-5466-41a1-bff8-a4611ec70e0b",
   "metadata": {},
   "outputs": [
    {
     "data": {
      "text/plain": [
       "int"
      ]
     },
     "execution_count": 23,
     "metadata": {},
     "output_type": "execute_result"
    }
   ],
   "source": [
    "type(30)"
   ]
  },
  {
   "cell_type": "code",
   "execution_count": 28,
   "id": "2ce2ac28-5bff-48fd-b55c-4bb241add47d",
   "metadata": {},
   "outputs": [],
   "source": [
    " new_var = int(new_var)"
   ]
  },
  {
   "cell_type": "code",
   "execution_count": 29,
   "id": "cdc826b3-da1a-4996-b45e-7b406d330b1b",
   "metadata": {},
   "outputs": [
    {
     "data": {
      "text/plain": [
       "30"
      ]
     },
     "execution_count": 29,
     "metadata": {},
     "output_type": "execute_result"
    }
   ],
   "source": [
    "new_var"
   ]
  },
  {
   "cell_type": "code",
   "execution_count": 31,
   "id": "812b3ece-ce31-4e5d-acf5-5c2bda276f9b",
   "metadata": {},
   "outputs": [
    {
     "name": "stdout",
     "output_type": "stream",
     "text": [
      "25.0\n"
     ]
    }
   ],
   "source": [
    "new_int = 25\n",
    "\n",
    "new_int = float(new_int) #float()\n",
    "\n",
    "print(new_int)"
   ]
  },
  {
   "cell_type": "code",
   "execution_count": 33,
   "id": "282e9c72-6bd3-4a38-ad64-abde1cbf5900",
   "metadata": {},
   "outputs": [
    {
     "name": "stdout",
     "output_type": "stream",
     "text": [
      "50 60\n"
     ]
    }
   ],
   "source": [
    "#running multiple syntaxs in single line\n",
    "#use ; delimiter\n",
    "a,b =50,60 ; print(a,b)\n",
    "\n"
   ]
  },
  {
   "cell_type": "markdown",
   "id": "c00cfe06-54b8-425d-ad7e-75db32d263b5",
   "metadata": {},
   "source": [
    "## Operators"
   ]
  },
  {
   "cell_type": "raw",
   "id": "2f347ddb-50de-4565-b6f6-e5ceebc876e2",
   "metadata": {},
   "source": [
    "Operators\n",
    "\n",
    "=> Arithmatic operators -   +,-,/,*,//  (Floor division),** (Exponentiation) , % (Modulus)\n",
    "=> Comparision operators -   >,<,>=,<=,!=, ==\n",
    "\n",
    "=>  identical operators  - is, is not\n",
    "=> Membership operators  - in,  not in\n",
    "\n",
    "=> Logical operators  - and, or, not\n",
    "\n",
    "\n",
    "\n"
   ]
  },
  {
   "cell_type": "code",
   "execution_count": 34,
   "id": "09f96179-62c5-43ba-8421-d61430ebc247",
   "metadata": {},
   "outputs": [
    {
     "data": {
      "text/plain": [
       "30"
      ]
     },
     "execution_count": 34,
     "metadata": {},
     "output_type": "execute_result"
    }
   ],
   "source": [
    "#Operators - Arthmatic (add, sub, mul, div, modulus, exponential) calculations\n",
    "\n",
    "A = 10 ; B = 20\n",
    "\n",
    "A+B #add"
   ]
  },
  {
   "cell_type": "code",
   "execution_count": 36,
   "id": "72533280-63d2-483b-9efa-b9480be34939",
   "metadata": {},
   "outputs": [
    {
     "data": {
      "text/plain": [
       "(-10, 200, 0.5)"
      ]
     },
     "execution_count": 36,
     "metadata": {},
     "output_type": "execute_result"
    }
   ],
   "source": [
    "A-B , A*B , A/B"
   ]
  },
  {
   "cell_type": "code",
   "execution_count": 37,
   "id": "1f8dd0a3-df2f-4211-8f5b-0e42fb8fca4c",
   "metadata": {},
   "outputs": [
    {
     "data": {
      "text/plain": [
       "0.5"
      ]
     },
     "execution_count": 37,
     "metadata": {},
     "output_type": "execute_result"
    }
   ],
   "source": [
    "A-B ; A*B ; A/B"
   ]
  },
  {
   "cell_type": "code",
   "execution_count": 39,
   "id": "eb79ca25-1f6f-4760-a9a5-22f2fb1684a2",
   "metadata": {},
   "outputs": [
    {
     "name": "stdout",
     "output_type": "stream",
     "text": [
      "-10\n",
      "200\n",
      "0.5\n"
     ]
    }
   ],
   "source": [
    "print(A-B) ; print(A*B) ; print(A/B)"
   ]
  },
  {
   "cell_type": "code",
   "execution_count": 40,
   "id": "847a2e44-098a-4a36-bee8-bf6ddc031a21",
   "metadata": {},
   "outputs": [
    {
     "name": "stdout",
     "output_type": "stream",
     "text": [
      "-10\n"
     ]
    }
   ],
   "source": [
    "print(A-B)\n",
    "#print(A-B ; A*B ; A/B)  -> its give you invalid Syntax"
   ]
  },
  {
   "cell_type": "code",
   "execution_count": 42,
   "id": "eb262fd0-dde8-49f2-9026-5702adffc923",
   "metadata": {},
   "outputs": [
    {
     "data": {
      "text/plain": [
       "-10"
      ]
     },
     "execution_count": 42,
     "metadata": {},
     "output_type": "execute_result"
    }
   ],
   "source": [
    "A-B #sub"
   ]
  },
  {
   "cell_type": "code",
   "execution_count": 43,
   "id": "acc00854-0422-4f3f-a7f5-79ee57df4260",
   "metadata": {},
   "outputs": [
    {
     "data": {
      "text/plain": [
       "200"
      ]
     },
     "execution_count": 43,
     "metadata": {},
     "output_type": "execute_result"
    }
   ],
   "source": [
    "A*B #multiplication"
   ]
  },
  {
   "cell_type": "code",
   "execution_count": 44,
   "id": "8e4f4c95-1ca1-4022-8e6f-1e72b0c37430",
   "metadata": {},
   "outputs": [
    {
     "data": {
      "text/plain": [
       "0.5"
      ]
     },
     "execution_count": 44,
     "metadata": {},
     "output_type": "execute_result"
    }
   ],
   "source": [
    "A/B #Division"
   ]
  },
  {
   "cell_type": "code",
   "execution_count": 45,
   "id": "057952e2-0643-44c6-aca8-fc3392e1698f",
   "metadata": {},
   "outputs": [
    {
     "data": {
      "text/plain": [
       "0"
      ]
     },
     "execution_count": 45,
     "metadata": {},
     "output_type": "execute_result"
    }
   ],
   "source": [
    "A//B #floor division #elimates the decimal after dividing"
   ]
  },
  {
   "cell_type": "code",
   "execution_count": 46,
   "id": "6c362a52-0e65-4af4-8e14-c938f6be92b4",
   "metadata": {},
   "outputs": [
    {
     "data": {
      "text/plain": [
       "729"
      ]
     },
     "execution_count": 46,
     "metadata": {},
     "output_type": "execute_result"
    }
   ],
   "source": [
    "3**6"
   ]
  },
  {
   "cell_type": "code",
   "execution_count": 49,
   "id": "317c0137-5967-4b3a-99a6-17ab15e50df4",
   "metadata": {},
   "outputs": [
    {
     "data": {
      "text/plain": [
       "100000000000000000000"
      ]
     },
     "execution_count": 49,
     "metadata": {},
     "output_type": "execute_result"
    }
   ],
   "source": [
    "C = A**B #exponential\n",
    "C #print(C)"
   ]
  },
  {
   "cell_type": "code",
   "execution_count": 50,
   "id": "7f546d3f-6f1d-4011-8455-11942acb690c",
   "metadata": {},
   "outputs": [
    {
     "data": {
      "text/plain": [
       "100000000000000000000"
      ]
     },
     "execution_count": 50,
     "metadata": {},
     "output_type": "execute_result"
    }
   ],
   "source": [
    "C"
   ]
  },
  {
   "cell_type": "code",
   "execution_count": 53,
   "id": "1788f94a-b30b-49f1-88b3-07c8f92b65e3",
   "metadata": {},
   "outputs": [
    {
     "data": {
      "text/plain": [
       "True"
      ]
     },
     "execution_count": 53,
     "metadata": {},
     "output_type": "execute_result"
    }
   ],
   "source": [
    "#comparitive operators -   ==, > , <, >= , <= ,!=\n",
    "\n",
    "A = 5\n",
    "B = 5 \n",
    "\n",
    "A == B"
   ]
  },
  {
   "cell_type": "code",
   "execution_count": 54,
   "id": "057e7496-6cc4-491d-ab22-69753260c84c",
   "metadata": {},
   "outputs": [
    {
     "data": {
      "text/plain": [
       "False"
      ]
     },
     "execution_count": 54,
     "metadata": {},
     "output_type": "execute_result"
    }
   ],
   "source": [
    "A!=B #A is not equal to B"
   ]
  },
  {
   "cell_type": "code",
   "execution_count": 56,
   "id": "8476170f-2292-41eb-ad03-0de0d3a02f27",
   "metadata": {},
   "outputs": [
    {
     "data": {
      "text/plain": [
       "True"
      ]
     },
     "execution_count": 56,
     "metadata": {},
     "output_type": "execute_result"
    }
   ],
   "source": [
    "A = 6 #int\n",
    "B = 5.5 #float\n",
    "\n",
    "# A == B\n",
    "A>B"
   ]
  },
  {
   "cell_type": "code",
   "execution_count": 57,
   "id": "0507e55e-b9f9-47a0-882d-17e888719710",
   "metadata": {},
   "outputs": [
    {
     "data": {
      "text/plain": [
       "False"
      ]
     },
     "execution_count": 57,
     "metadata": {},
     "output_type": "execute_result"
    }
   ],
   "source": [
    "A < B"
   ]
  },
  {
   "cell_type": "code",
   "execution_count": 58,
   "id": "5dfec381-aedb-4fa3-8191-428c8a215d92",
   "metadata": {},
   "outputs": [
    {
     "data": {
      "text/plain": [
       "True"
      ]
     },
     "execution_count": 58,
     "metadata": {},
     "output_type": "execute_result"
    }
   ],
   "source": [
    "A = 4\n",
    "B = 4\n",
    "A>=B # A>B or A ==B"
   ]
  },
  {
   "cell_type": "code",
   "execution_count": 59,
   "id": "b59aa517-8368-4aac-91f3-a7127a30a411",
   "metadata": {},
   "outputs": [
    {
     "data": {
      "text/plain": [
       "False"
      ]
     },
     "execution_count": 59,
     "metadata": {},
     "output_type": "execute_result"
    }
   ],
   "source": [
    "A = 6\n",
    "B = 3\n",
    "A<=B"
   ]
  },
  {
   "cell_type": "code",
   "execution_count": 60,
   "id": "c80c5f41-7b6b-4ac6-901f-0277270115b4",
   "metadata": {},
   "outputs": [
    {
     "data": {
      "text/plain": [
       "True"
      ]
     },
     "execution_count": 60,
     "metadata": {},
     "output_type": "execute_result"
    }
   ],
   "source": [
    "A!=B"
   ]
  },
  {
   "cell_type": "code",
   "execution_count": 61,
   "id": "e03ee51d-8e00-4f4a-b8a3-e9b6672645ef",
   "metadata": {},
   "outputs": [
    {
     "name": "stdout",
     "output_type": "stream",
     "text": [
      "15 15\n"
     ]
    }
   ],
   "source": [
    "# =  - assigning\n",
    "# ==  - verifying\n",
    "\n",
    "A = 10\n",
    "B = 15 \n",
    "A = B\n",
    "\n",
    "print(A,B)\n",
    "\n",
    "#1 hour 25 min"
   ]
  },
  {
   "cell_type": "code",
   "execution_count": 9,
   "id": "71acd190-f232-4859-86f3-f31732bfb4cd",
   "metadata": {},
   "outputs": [
    {
     "name": "stdout",
     "output_type": "stream",
     "text": [
      "20\n"
     ]
    }
   ],
   "source": [
    "a = 10; b = 20\n",
    "c= 0\n",
    "c = c +b  # c+=b  #reassigning to a existing var\n",
    "print(c)"
   ]
  },
  {
   "cell_type": "code",
   "execution_count": 10,
   "id": "9f15cf6f-31a2-4d71-b2ca-d258f67cc266",
   "metadata": {},
   "outputs": [
    {
     "data": {
      "text/plain": [
       "20"
      ]
     },
     "execution_count": 10,
     "metadata": {},
     "output_type": "execute_result"
    }
   ],
   "source": [
    "c"
   ]
  },
  {
   "cell_type": "code",
   "execution_count": 11,
   "id": "7b501319-5e55-4568-9fc0-cdce4067bf19",
   "metadata": {},
   "outputs": [
    {
     "name": "stdout",
     "output_type": "stream",
     "text": [
      "10 20 20\n"
     ]
    }
   ],
   "source": [
    "print(a,b,c)"
   ]
  },
  {
   "cell_type": "code",
   "execution_count": 12,
   "id": "c6a2a53d-ca2e-4d12-b803-37b44da85977",
   "metadata": {},
   "outputs": [
    {
     "name": "stdout",
     "output_type": "stream",
     "text": [
      "0\n"
     ]
    }
   ],
   "source": [
    "c -= b #c =c-b\n",
    "print(c)"
   ]
  },
  {
   "cell_type": "code",
   "execution_count": 13,
   "id": "438c62de-d061-4304-b0cd-41fb077b148a",
   "metadata": {},
   "outputs": [
    {
     "data": {
      "text/plain": [
       "0"
      ]
     },
     "execution_count": 13,
     "metadata": {},
     "output_type": "execute_result"
    }
   ],
   "source": [
    "c"
   ]
  },
  {
   "cell_type": "code",
   "execution_count": 14,
   "id": "36f3cea7-c6c4-4552-a883-602f753716af",
   "metadata": {},
   "outputs": [
    {
     "data": {
      "text/plain": [
       "200"
      ]
     },
     "execution_count": 14,
     "metadata": {},
     "output_type": "execute_result"
    }
   ],
   "source": [
    "a *= b  # a= a*b\n",
    "a"
   ]
  },
  {
   "cell_type": "code",
   "execution_count": null,
   "id": "b8896c09-7850-43e2-a5c2-4c07a1114c77",
   "metadata": {},
   "outputs": [],
   "source": [
    "a //= b # a = a//b #floor division  #no decimal  #200//20"
   ]
  },
  {
   "cell_type": "code",
   "execution_count": 15,
   "id": "bff9af30-9cf9-4ef5-9df8-a2ad397b8150",
   "metadata": {},
   "outputs": [
    {
     "data": {
      "text/plain": [
       "200"
      ]
     },
     "execution_count": 15,
     "metadata": {},
     "output_type": "execute_result"
    }
   ],
   "source": [
    "a"
   ]
  },
  {
   "cell_type": "code",
   "execution_count": 16,
   "id": "3a0b79db-5458-4ff6-84cc-6d32987912c4",
   "metadata": {},
   "outputs": [
    {
     "data": {
      "text/plain": [
       "1"
      ]
     },
     "execution_count": 16,
     "metadata": {},
     "output_type": "execute_result"
    }
   ],
   "source": [
    "a = 10; b = 3\n",
    "a%b  #% - Modulus #remainder"
   ]
  },
  {
   "cell_type": "code",
   "execution_count": 18,
   "id": "41c4c43b-43a3-4fe0-a6f5-a1d170d683cd",
   "metadata": {},
   "outputs": [],
   "source": [
    "%= , **="
   ]
  },
  {
   "cell_type": "code",
   "execution_count": null,
   "id": "d89e1a20-7889-4342-a997-c6b677c87da1",
   "metadata": {},
   "outputs": [],
   "source": []
  }
 ],
 "metadata": {
  "kernelspec": {
   "display_name": "Python 3 (ipykernel)",
   "language": "python",
   "name": "python3"
  },
  "language_info": {
   "codemirror_mode": {
    "name": "ipython",
    "version": 3
   },
   "file_extension": ".py",
   "mimetype": "text/x-python",
   "name": "python",
   "nbconvert_exporter": "python",
   "pygments_lexer": "ipython3",
   "version": "3.11.7"
  }
 },
 "nbformat": 4,
 "nbformat_minor": 5
}
